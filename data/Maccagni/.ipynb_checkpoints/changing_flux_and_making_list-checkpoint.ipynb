{
 "cells": [
  {
   "cell_type": "code",
   "execution_count": 1,
   "id": "98399d8b-b4f6-487a-80c9-d76c9f01dcef",
   "metadata": {},
   "outputs": [
    {
     "name": "stderr",
     "output_type": "stream",
     "text": [
      "/tmp/ipykernel_71855/556120325.py:7: DeprecationWarning: `np.str` is a deprecated alias for the builtin `str`. To silence this warning, use `str` by itself. Doing this will not modify any behavior and is safe. If you specifically wanted the numpy scalar type, use `np.str_` here.\n",
      "Deprecated in NumPy 1.20; for more details and guidance: https://numpy.org/devdocs/release/1.20.0-notes.html#deprecations\n",
      "  data = np.loadtxt('spectra_list_detections.txt', dtype=np.str)\n"
     ]
    }
   ],
   "source": [
    "#don't run this unless you want to overwrite the reversed spectra scripts\n",
    "import numpy as np\n",
    "import matplotlib.pyplot as plt\n",
    "from glob import glob\n",
    "import json\n",
    "\n",
    "data = np.loadtxt('spectra_list_detections.txt', dtype=np.str)\n",
    "\n",
    "for i in data:\n",
    "    \n",
    "    name = i.split('/')[-1].split('_spec.txt')[0]\n",
    "    \n",
    "    sg = i.split('/')\n",
    "    \n",
    "    i_c = sg[0] + '/spectraArcHIve/' + sg[1] +'/'+sg[2]+'/'+sg[3]+'/'+sg[4]+'/'+sg[5]\n",
    "    \n",
    "    loaded = np.loadtxt(i_c)\n",
    "    if i_c == './spectraArcHIve/J135217.88+312646.4/final/abs/spec/J135217.88+312646.4_spec.txt':\n",
    "        loaded[:,1]*= -1\n",
    "    else:\n",
    "        loaded[:, 2]*= -1\n",
    "        loaded[:, 3]*= -1\n",
    "    #print(loaded)\n",
    "    np.savetxt('spectraArcHIve_reversed/'+sg[5], loaded)"
   ]
  },
  {
   "cell_type": "code",
   "execution_count": 4,
   "id": "58980407-bb09-474c-b6da-98d99a88dec3",
   "metadata": {},
   "outputs": [],
   "source": [
    "import numpy as np\n",
    "import matplotlib.pyplot as plt\n",
    "from glob import glob\n",
    "import json"
   ]
  },
  {
   "cell_type": "code",
   "execution_count": 5,
   "id": "1d2d6f7b-4d1f-4121-9d05-a5dce3bce5b4",
   "metadata": {
    "collapsed": true,
    "jupyter": {
     "outputs_hidden": true
    },
    "tags": []
   },
   "outputs": [
    {
     "name": "stdout",
     "output_type": "stream",
     "text": [
      "['spectraArcHIve_reversed/J075756.71+395936.1_spec.txt'\n",
      " 'spectraArcHIve_reversed/J080601.51+190614.7_spec.txt'\n",
      " 'spectraArcHIve_reversed/J080938.88+345537.2_spec.txt'\n",
      " 'spectraArcHIve_reversed/J082133.60+470237.3_spec.txt'\n",
      " 'spectraArcHIve_reversed/J083548.14+151717.0_spec.txt'\n",
      " 'spectraArcHIve_reversed/J083637.84+440109.6_spec.txt'\n",
      " 'spectraArcHIve_reversed/J084307.11+453742.8_spec.txt'\n",
      " 'spectraArcHIve_reversed/J090325.54+162256.0_spec.txt'\n",
      " 'spectraArcHIve_reversed/J090734.91+325722.9_spec.txt'\n",
      " 'spectraArcHIve_reversed/J090937.44+192808.2_spec.txt'\n",
      " 'spectraArcHIve_reversed/J093551.59+612111.3_spec.txt'\n",
      " 'spectraArcHIve_reversed/J102053.67+483124.3_spec.txt'\n",
      " 'spectraArcHIve_reversed/J102400.53+511248.1_spec.txt'\n",
      " 'spectraArcHIve_reversed/J102544.22+102230.4_spec.txt'\n",
      " 'spectraArcHIve_reversed/J103932.12+461205.3_spec.txt'\n",
      " 'spectraArcHIve_reversed/J105327.25+205835.9_spec.txt'\n",
      " 'spectraArcHIve_reversed/J110017.98+100256.8_spec.txt'\n",
      " 'spectraArcHIve_reversed/J111113.19+284147.0_spec.txt'\n",
      " 'spectraArcHIve_reversed/J111916.54+623925.7_spec.txt'\n",
      " 'spectraArcHIve_reversed/J112030.04+273610.7_spec.txt'\n",
      " 'spectraArcHIve_reversed/J112332.04+235047.8_spec.txt'\n",
      " 'spectraArcHIve_reversed/J120231.12+163741.8_spec.txt'\n",
      " 'spectraArcHIve_reversed/J120551.46+203119.0_spec.txt'\n",
      " 'spectraArcHIve_reversed/J120855.60+464113.8_spec.txt'\n",
      " 'spectraArcHIve_reversed/J122513.09+321401.6_spec.txt'\n",
      " 'spectraArcHIve_reversed/J123200.55+331747.6_spec.txt'\n",
      " 'spectraArcHIve_reversed/J123905.13+174457.5_spec.txt'\n",
      " 'spectraArcHIve_reversed/J124707.32+490017.9_spec.txt'\n",
      " 'spectraArcHIve_reversed/J125433.26+185602.2_spec.txt'\n",
      " 'spectraArcHIve_reversed/J130125.26+291849.5_spec.txt'\n",
      " 'spectraArcHIve_reversed/J130132.61+463402.7_spec.txt'\n",
      " 'spectraArcHIve_reversed/J130556.95+395621.5_spec.txt'\n",
      " 'spectraArcHIve_reversed/J131535.10+620728.4_spec.txt'\n",
      " 'spectraArcHIve_reversed/J131739.20+411545.6_spec.txt'\n",
      " 'spectraArcHIve_reversed/J132035.40+340821.7_spec.txt'\n",
      " 'spectraArcHIve_reversed/J132513.37+395553.2_spec.txt'\n",
      " 'spectraArcHIve_reversed/J133455.94+134431.7_spec.txt'\n",
      " 'spectraArcHIve_reversed/J133817.24+481629.7_spec.txt'\n",
      " 'spectraArcHIve_reversed/J134035.20+444817.3_spec.txt'\n",
      " 'spectraArcHIve_reversed/J134111.14+302241.3_spec.txt'\n",
      " 'spectraArcHIve_reversed/J134442.16+555313.5_spec.txt'\n",
      " 'spectraArcHIve_reversed/J134649.45+142401.7_spec.txt'\n",
      " 'spectraArcHIve_reversed/J135217.88+312646.4_spec.txt'\n",
      " 'spectraArcHIve_reversed/J135646.10+102609.0_spec.txt'\n",
      " 'spectraArcHIve_reversed/J135806.05+214021.1_spec.txt'\n",
      " 'spectraArcHIve_reversed/J142210.81+210554.1_spec.txt'\n",
      " 'spectraArcHIve_reversed/J143521.67+505122.9_spec.txt'\n",
      " 'spectraArcHIve_reversed/J144921.58+631614.0_spec.txt'\n",
      " 'spectraArcHIve_reversed/J150034.56+364845.1_spec.txt'\n",
      " 'spectraArcHIve_reversed/J150721.87+101844.8_spec.txt'\n",
      " 'spectraArcHIve_reversed/J151319.23+343133.7_spec.txt'\n",
      " 'spectraArcHIve_reversed/J152446.01+230723.5_spec.txt'\n",
      " 'spectraArcHIve_reversed/J152922.49+362142.2_spec.txt'\n",
      " 'spectraArcHIve_reversed/J153437.61+251311.4_spec.txt'\n",
      " 'spectraArcHIve_reversed/J153452.95+290919.8_spec.txt'\n",
      " 'spectraArcHIve_reversed/J155902.70+230830.4_spec.txt'\n",
      " 'spectraArcHIve_reversed/J160246.39+524358.3_spec.txt'\n",
      " 'spectraArcHIve_reversed/J160332.08+171155.3_spec.txt'\n",
      " 'spectraArcHIve_reversed/J160338.06+155402.5_spec.txt'\n",
      " 'spectraArcHIve_reversed/J160952.60+133148.0_spec.txt'\n",
      " 'spectraArcHIve_reversed/J161217.62+282546.4_spec.txt'\n",
      " 'spectraArcHIve_reversed/J161740.53+350015.1_spec.txt'\n",
      " 'spectraArcHIve_reversed/J163804.02+264329.1_spec.txt'\n",
      " 'spectraArcHIve_reversed/J163844.80+275439.1_spec.txt'\n",
      " 'spectraArcHIve_reversed/J163956.07+112757.4_spec.txt'\n",
      " 'spectraArcHIve_reversed/J170815.25+211117.7_spec.txt']\n"
     ]
    }
   ],
   "source": [
    "data_r = np.sort( glob('spectraArcHIve_reversed/*') )\n",
    "print(data_r)\n",
    "np.savetxt('path_list_reversed.txt', data_r, fmt=\"%s\")"
   ]
  },
  {
   "cell_type": "code",
   "execution_count": null,
   "id": "af21c354-5399-426f-9c14-c0be02c58a23",
   "metadata": {},
   "outputs": [],
   "source": []
  }
 ],
 "metadata": {
  "kernelspec": {
   "display_name": "Python 3 (ipykernel)",
   "language": "python",
   "name": "python3"
  },
  "language_info": {
   "codemirror_mode": {
    "name": "ipython",
    "version": 3
   },
   "file_extension": ".py",
   "mimetype": "text/x-python",
   "name": "python",
   "nbconvert_exporter": "python",
   "pygments_lexer": "ipython3",
   "version": "3.9.13"
  }
 },
 "nbformat": 4,
 "nbformat_minor": 5
}
