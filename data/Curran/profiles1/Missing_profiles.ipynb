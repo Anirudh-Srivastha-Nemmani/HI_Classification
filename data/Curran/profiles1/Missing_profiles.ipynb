{
 "cells": [
  {
   "cell_type": "code",
   "execution_count": 1,
   "id": "cc36a020-6e30-47f5-a6de-cc2a7e37e945",
   "metadata": {},
   "outputs": [],
   "source": [
    "import numpy as np\n",
    "import matplotlib.pyplot as plt\n",
    "from glob import glob\n",
    "import json\n",
    "import pandas as pd"
   ]
  },
  {
   "cell_type": "code",
   "execution_count": 2,
   "id": "591e6bcf-addc-4ffc-bcbf-7d72886023bd",
   "metadata": {},
   "outputs": [],
   "source": [
    "data = np.sort( glob('spectra/*') )\n",
    "\n",
    "name_a = []\n",
    "\n",
    "for i in data:\n",
    "    \n",
    "    name = i.split('/')[1].split('_')[0]\n",
    "    \n",
    "    name_a.append(name)"
   ]
  },
  {
   "cell_type": "code",
   "execution_count": 3,
   "id": "5d9d7787-c874-482d-b54b-5bdf15576aa5",
   "metadata": {},
   "outputs": [
    {
     "data": {
      "text/plain": [
       "48"
      ]
     },
     "execution_count": 3,
     "metadata": {},
     "output_type": "execute_result"
    }
   ],
   "source": [
    "len(name_a)"
   ]
  },
  {
   "cell_type": "code",
   "execution_count": 13,
   "id": "2cac3058-0276-4a85-9af3-7cd62c976341",
   "metadata": {},
   "outputs": [],
   "source": [
    "df = pd.read_csv('Curran_gaussian_data.csv')\n",
    "iau = df['IAU'].iloc[56:135]"
   ]
  },
  {
   "cell_type": "code",
   "execution_count": 16,
   "id": "971ecf35-1506-49e8-acda-26e14e661ee8",
   "metadata": {},
   "outputs": [],
   "source": [
    "iau_a = np.array(iau, dtype=str)"
   ]
  },
  {
   "cell_type": "code",
   "execution_count": 25,
   "id": "1452d878-4723-4678-8ac3-bf523d23179b",
   "metadata": {},
   "outputs": [],
   "source": [
    "missing = np.array(list(set(iau_a) - set(name_a)), dtype=str)"
   ]
  },
  {
   "cell_type": "code",
   "execution_count": 30,
   "id": "c4fccf8e-36a6-41d5-9bd8-7e2322d80c7f",
   "metadata": {},
   "outputs": [
    {
     "name": "stdout",
     "output_type": "stream",
     "text": [
      "57\n"
     ]
    },
    {
     "data": {
      "text/plain": [
       "array(['2121+24', 'J0431+2037', 'J142210+210554', 'J1816+3457',\n",
       "       'J1124+1919', 'J1513+3431', 'J0901+0304', '1357+0046',\n",
       "       'J1604+6050', 'SDSSJ104830.37+353800.8', '1003+35', 'J1120+27',\n",
       "       'J1616+2647', 'J1534+2909', 'J0901+2901', '0316+16', 'J0909+4253',\n",
       "       'B1540-1453', 'J1326+3154', 'PKS0500+019', '0941-080',\n",
       "       'J1129+5638', 'J0414+0534', '0035+227', 'J0834+5534', 'J1944+5448',\n",
       "       'J1821+3942', 'J0025-2602', '1649-062', '1142+052', 'J0920+2714',\n",
       "       '1504+37', '1717+547', '1400+6210', '1202+16', 'B1549-79',\n",
       "       'J1301+46', 'J0141+1353', 'B22050+36', 'B31355+441', '2316+0405',\n",
       "       'J2255+1313', '0839+458', 'J1409+3604', 'J0410+7656', 'J1708+2111',\n",
       "       '2252-089', '1107-187', '1413+135', 'J1815+6127',\n",
       "       'CGRaBSJ0111+3906', 'B20902+34', 'J0942+0623',\n",
       "       'J101301.60+244837.3', '0758+143', 'J2245-3430', 'J1247+4900'],\n",
       "      dtype='<U23')"
      ]
     },
     "execution_count": 30,
     "metadata": {},
     "output_type": "execute_result"
    }
   ],
   "source": [
    "print(len(missing))\n",
    "missing"
   ]
  },
  {
   "cell_type": "code",
   "execution_count": null,
   "id": "85a81236-4b83-4baa-ba40-3fdad91c7573",
   "metadata": {},
   "outputs": [],
   "source": []
  }
 ],
 "metadata": {
  "kernelspec": {
   "display_name": "Python 3 (ipykernel)",
   "language": "python",
   "name": "python3"
  },
  "language_info": {
   "codemirror_mode": {
    "name": "ipython",
    "version": 3
   },
   "file_extension": ".py",
   "mimetype": "text/x-python",
   "name": "python",
   "nbconvert_exporter": "python",
   "pygments_lexer": "ipython3",
   "version": "3.9.13"
  }
 },
 "nbformat": 4,
 "nbformat_minor": 5
}
