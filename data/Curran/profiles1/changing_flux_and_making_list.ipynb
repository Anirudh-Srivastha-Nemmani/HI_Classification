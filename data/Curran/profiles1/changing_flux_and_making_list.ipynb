{
 "cells": [
  {
   "cell_type": "code",
   "execution_count": 1,
   "id": "98399d8b-b4f6-487a-80c9-d76c9f01dcef",
   "metadata": {},
   "outputs": [],
   "source": [
    "#don't run this unless you want to overwrite the reversed spectra scripts\n",
    "import numpy as np\n",
    "import matplotlib.pyplot as plt\n",
    "from glob import glob\n",
    "import json\n",
    "\n",
    "data = np.sort( glob('spectra/*') )\n",
    "\n",
    "for i in data:\n",
    "    \n",
    "    name = i.split('/')[1].split('_')[0]\n",
    "    \n",
    "    loaded = np.loadtxt(i)\n",
    "    loaded[:,1]*= -1\n",
    "    #print(loaded)\n",
    "    np.savetxt('spectra_reversed/'+i.split('/')[1], loaded)"
   ]
  },
  {
   "cell_type": "code",
   "execution_count": 2,
   "id": "58980407-bb09-474c-b6da-98d99a88dec3",
   "metadata": {},
   "outputs": [],
   "source": [
    "import numpy as np\n",
    "import matplotlib.pyplot as plt\n",
    "from glob import glob\n",
    "import json"
   ]
  },
  {
   "cell_type": "code",
   "execution_count": 4,
   "id": "1d2d6f7b-4d1f-4121-9d05-a5dce3bce5b4",
   "metadata": {
    "tags": []
   },
   "outputs": [
    {
     "name": "stdout",
     "output_type": "stream",
     "text": [
      "['spectra_reversed/0003+380_ak18.dat'\n",
      " 'spectra_reversed/0035+22_omd+17.dat'\n",
      " 'spectra_reversed/0202+14_jgs18.dat'\n",
      " 'spectra_reversed/0229+0044_ckc20.dat'\n",
      " 'spectra_reversed/0229+0053_ckc20.dat'\n",
      " 'spectra_reversed/0248+430_lb01.jpg.dat'\n",
      " 'spectra_reversed/0300+380_ak18.dat'\n",
      " 'spectra_reversed/0834-20_sma+20.jpg.dat'\n",
      " 'spectra_reversed/0941-08_omd+17.dat'\n",
      " 'spectra_reversed/101301.60+244837.3_adi19.dat'\n",
      " 'spectra_reversed/1045+35A_adi.dat' 'spectra_reversed/1147+557_css11.dat'\n",
      " 'spectra_reversed/1200+045_ak17.dat'\n",
      " 'spectra_reversed/1221-423_jbc+10.dat'\n",
      " 'spectra_reversed/1245-197_ak17.dat'\n",
      " 'spectra_reversed/1345+12_gss+06.dat'\n",
      " 'spectra_reversed/1456+375_ak18.dat' 'spectra_reversed/1465+375_ak18.dat'\n",
      " 'spectra_reversed/1540-1453_gss+21.dat'\n",
      " 'spectra_reversed/1543+480_ak18.dat'\n",
      " 'spectra_reversed/1549-79_mot+01.dat'\n",
      " 'spectra_reversed/1555-140_cwm+06.dat'\n",
      " 'spectra_reversed/1610-77_sma+20.jpg.dat'\n",
      " 'spectra_reversed/1645+2230_adi19.dat'\n",
      " 'spectra_reversed/1740-517_asm+15.dat'\n",
      " 'spectra_reversed/1954+513_akp+17.dat'\n",
      " 'spectra_reversed/2351+456_dgh+04.jpg.dat'\n",
      " 'spectra_reversed/J01465-0157_adi19.dat'\n",
      " 'spectra_reversed/J0903+1622_mmo+17.dat'\n",
      " 'spectra_reversed/J0919+0146_dsg+17.dat'\n",
      " 'spectra_reversed/J0921+6215_dsg+17.dat'\n",
      " 'spectra_reversed/J1039+4612_mmo+17.dat'\n",
      " 'spectra_reversed/J1206+6413_vpt+03.jpg.dat'\n",
      " 'spectra_reversed/J1209-2032_mpg+20.jpg.dat'\n",
      " 'spectra_reversed/J1255+1817_dsg+17.jpg.dat'\n",
      " 'spectra_reversed/J1327+4326_dsg+17.jpg.dat'\n",
      " 'spectra_reversed/J1342+5110_dsg+17.jpg.dat'\n",
      " 'spectra_reversed/J1357+0046_ysd+16.dat'\n",
      " 'spectra_reversed/J1428+2103_dsgj17.jpg.dat'\n",
      " 'spectra_reversed/J15131921+3431340_mmo+17.dat'\n",
      " 'spectra_reversed/J1521+5508_dsgj19.dat'\n",
      " 'spectra_reversed/J153452.95+290919.8_mmo+17.dat'\n",
      " 'spectra_reversed/J1551+0713_dsgj17.jpg.dat'\n",
      " 'spectra_reversed/J160246+524358_css11.dat'\n",
      " 'spectra_reversed/J17081524+2111175_mmo+17.dat'\n",
      " 'spectra_reversed/J1945+7055_ptc99.jpg.dat'\n",
      " 'spectra_reversed/J2219+0229_dsg+17.jpg.dat'\n",
      " 'spectra_reversed/J224500-343030_asd+19.dat']\n"
     ]
    }
   ],
   "source": [
    "data_r = np.sort( glob('spectra_reversed/*') )\n",
    "print(data_r)\n",
    "np.savetxt('path_list_reversed.txt', data_r, fmt=\"%s\")"
   ]
  },
  {
   "cell_type": "code",
   "execution_count": null,
   "id": "af21c354-5399-426f-9c14-c0be02c58a23",
   "metadata": {},
   "outputs": [],
   "source": []
  }
 ],
 "metadata": {
  "kernelspec": {
   "display_name": "Python 3 (ipykernel)",
   "language": "python",
   "name": "python3"
  },
  "language_info": {
   "codemirror_mode": {
    "name": "ipython",
    "version": 3
   },
   "file_extension": ".py",
   "mimetype": "text/x-python",
   "name": "python",
   "nbconvert_exporter": "python",
   "pygments_lexer": "ipython3",
   "version": "3.9.13"
  }
 },
 "nbformat": 4,
 "nbformat_minor": 5
}
