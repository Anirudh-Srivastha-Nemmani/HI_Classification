{
 "cells": [
  {
   "cell_type": "code",
   "execution_count": 1,
   "id": "98399d8b-b4f6-487a-80c9-d76c9f01dcef",
   "metadata": {},
   "outputs": [],
   "source": [
    "#don't run this unless you want to overwrite the reversed spectra scripts\n",
    "import numpy as np\n",
    "import matplotlib.pyplot as plt\n",
    "from glob import glob\n",
    "import json\n",
    "\n",
    "data = np.sort( glob('spectra/*') )\n",
    "\n",
    "for i in data:\n",
    "    \n",
    "    name = i.split('/')[1].split('_')[0]\n",
    "    \n",
    "    loaded = np.loadtxt(i)\n",
    "    loaded[:,1]*= -1\n",
    "    #print(loaded)\n",
    "    np.savetxt('spectra_reversed/'+i.split('/')[1], loaded)"
   ]
  },
  {
   "cell_type": "code",
   "execution_count": 2,
   "id": "58980407-bb09-474c-b6da-98d99a88dec3",
   "metadata": {},
   "outputs": [],
   "source": [
    "import numpy as np\n",
    "import matplotlib.pyplot as plt\n",
    "from glob import glob\n",
    "import json"
   ]
  },
  {
   "cell_type": "code",
   "execution_count": 3,
   "id": "1d2d6f7b-4d1f-4121-9d05-a5dce3bce5b4",
   "metadata": {
    "tags": []
   },
   "outputs": [
    {
     "name": "stdout",
     "output_type": "stream",
     "text": [
      "['spectra_reversed/0131-36_emo+08.dat'\n",
      " 'spectra_reversed/0237-233_kpec09.dat'\n",
      " 'spectra_reversed/0414+0534_YY+cwt+11.dat'\n",
      " 'spectra_reversed/0458-020_kpec09.dat'\n",
      " 'spectra_reversed/0500+019_cmr+98.dat'\n",
      " 'spectra_reversed/0809+483_bdv01.dat'\n",
      " 'spectra_reversed/0952+179_kc01a.dat'\n",
      " 'spectra_reversed/1057+1018_dmhg11.dat'\n",
      " 'spectra_reversed/1127-145_lsb+98.dat'\n",
      " 'spectra_reversed/1142+052_kpec09.dat'\n",
      " 'spectra_reversed/1221-423_jbc+10.dat'\n",
      " 'spectra_reversed/1229-021_bs79.dat' 'spectra_reversed/1243-072_lb01.dat'\n",
      " 'spectra_reversed/1345+12_mir89.dat'\n",
      " 'spectra_reversed/1353+055_vke+89.dat' 'spectra_reversed/1430-kpec09.dat'\n",
      " 'spectra_reversed/1504+377_cmr+98-tau.dat'\n",
      " 'spectra_reversed/1504+377_cmr+98.dat'\n",
      " 'spectra_reversed/1629+12_kc02.dat'\n",
      " 'spectra_reversed/1816-6572_mot+01.dat'\n",
      " 'spectra_reversed/1830-211_cdn99.dat'\n",
      " 'spectra_reversed/1830-211_lrj+96.dat'\n",
      " 'spectra_reversed/2003-025_kpec09.dat'\n",
      " 'spectra_reversed/2039+187_kem+12.dat'\n",
      " 'spectra_reversed/2121+24_mir89.dat'\n",
      " 'spectra_reversed/2226-184_tph+02_high.dat'\n",
      " 'spectra_reversed/2226-184_tph+02_low.dat'\n",
      " 'spectra_reversed/3C190_ida02.dat' 'spectra_reversed/3C236_mot05.dat'\n",
      " 'spectra_reversed/3C293_mot05.dat' 'spectra_reversed/3C305_mot05.dat'\n",
      " 'spectra_reversed/3C459_mot05.dat' 'spectra_reversed/4C12.50_mot05.dat'\n",
      " 'spectra_reversed/IC_5063_mot05.dat'\n",
      " 'spectra_reversed/J0025-2602_vpt+03.dat'\n",
      " 'spectra_reversed/J0119+3210_gss+06.dat'\n",
      " 'spectra_reversed/J0134-0931_kb03.dat'\n",
      " 'spectra_reversed/J0141+1353_vpt+03.dat'\n",
      " 'spectra_reversed/J0410+7656_vpt+03.dat'\n",
      " 'spectra_reversed/J0414_mcm98.dat'\n",
      " 'spectra_reversed/J0431+2037_vpt+03.dat'\n",
      " 'spectra_reversed/J0834+5535_vpt+03.dat'\n",
      " 'spectra_reversed/J0849+5108_gsn+13.dat'\n",
      " 'spectra_reversed/J0901+2901_vpt+03.dat'\n",
      " 'spectra_reversed/J0909+4253_vpt+03.dat'\n",
      " 'spectra_reversed/J1124+1919_gss+06.dat'\n",
      " 'spectra_reversed/J1148+5925_gss+06.dat'\n",
      " 'spectra_reversed/J1206+6413_vpt+03.dat'\n",
      " 'spectra_reversed/J1326+3154_vpt+03.dat'\n",
      " 'spectra_reversed/J1347+1217_gss+06.dat'\n",
      " 'spectra_reversed/J1357+4345_vpt+03.dat'\n",
      " 'spectra_reversed/J1400+6210_vpt+03.dat'\n",
      " 'spectra_reversed/J1407+2827_gss+06.dat'\n",
      " 'spectra_reversed/J1407+2827_vpt+03.dat'\n",
      " 'spectra_reversed/J1431+3952_ekp+12.dat'\n",
      " 'spectra_reversed/J1443+0214_gsn+13.dat'\n",
      " 'spectra_reversed/J1545+4751_cwt+12.dat'\n",
      " 'spectra_reversed/J1718+5441_css11.dat'\n",
      " 'spectra_reversed/J1815+6127_vpt+03.dat'\n",
      " 'spectra_reversed/J1816+3457_ptf+00.dat'\n",
      " 'spectra_reversed/J1821+3942_vpt+03.dat'\n",
      " 'spectra_reversed/J1944+5448_vpt+03.dat'\n",
      " 'spectra_reversed/J1945+7055_ptc99.dat'\n",
      " 'spectra_reversed/J2052+3635_vpt+03.dat'\n",
      " 'spectra_reversed/J2255+1313_vpt+03.dat'\n",
      " 'spectra_reversed/J2316+0405_gss+06.dat'\n",
      " 'spectra_reversed/J2316+0405_vpt+03.dat'\n",
      " 'spectra_reversed/J2355+4950_vpt+03.dat'\n",
      " 'spectra_reversed/OQ208_mot05.dat' 'spectra_reversed/mot+01_1318-43.dat'\n",
      " 'spectra_reversed/mot+01_1549-79.dat'\n",
      " 'spectra_reversed/mot+01_1717-00.dat']\n"
     ]
    }
   ],
   "source": [
    "data_r = np.sort( glob('spectra_reversed/*') )\n",
    "print(data_r)\n",
    "np.savetxt('path_list_reversed.txt', data_r, fmt=\"%s\")"
   ]
  },
  {
   "cell_type": "code",
   "execution_count": null,
   "id": "af21c354-5399-426f-9c14-c0be02c58a23",
   "metadata": {},
   "outputs": [],
   "source": []
  }
 ],
 "metadata": {
  "kernelspec": {
   "display_name": "Python 3 (ipykernel)",
   "language": "python",
   "name": "python3"
  },
  "language_info": {
   "codemirror_mode": {
    "name": "ipython",
    "version": 3
   },
   "file_extension": ".py",
   "mimetype": "text/x-python",
   "name": "python",
   "nbconvert_exporter": "python",
   "pygments_lexer": "ipython3",
   "version": "3.9.13"
  }
 },
 "nbformat": 4,
 "nbformat_minor": 5
}
