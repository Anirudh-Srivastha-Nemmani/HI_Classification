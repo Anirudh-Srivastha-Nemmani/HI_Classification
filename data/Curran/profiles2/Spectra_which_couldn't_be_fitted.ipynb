{
 "cells": [
  {
   "cell_type": "code",
   "execution_count": 1,
   "id": "e0619bd8-6537-4efd-a95b-8191ace2b923",
   "metadata": {},
   "outputs": [],
   "source": [
    "import numpy as np\n",
    "import matplotlib.pyplot as plt\n",
    "from glob import glob\n",
    "import json\n",
    "import pandas as pd"
   ]
  },
  {
   "cell_type": "code",
   "execution_count": 2,
   "id": "ac3bf205-caf0-4d3d-8320-a542e36ced5b",
   "metadata": {},
   "outputs": [],
   "source": [
    "data = np.sort( glob('spectra/*') )"
   ]
  },
  {
   "cell_type": "code",
   "execution_count": 8,
   "id": "86812734-0e5f-4815-848c-0d31af788605",
   "metadata": {},
   "outputs": [],
   "source": [
    "all_list = []\n",
    "\n",
    "for i in data:\n",
    "    \n",
    "    name = i.split('/')[1]\n",
    "    \n",
    "    all_list.append(name)"
   ]
  },
  {
   "cell_type": "code",
   "execution_count": 9,
   "id": "8c6c8863-fa54-4f74-8c12-997b68c504e1",
   "metadata": {},
   "outputs": [],
   "source": [
    "all_list = np.array(all_list, dtype = str)"
   ]
  },
  {
   "cell_type": "code",
   "execution_count": 15,
   "id": "6383699e-d3e6-466b-afbd-fcd048c28081",
   "metadata": {},
   "outputs": [],
   "source": [
    "fit_list = np.loadtxt('not_complete_fitting.txt', dtype = str)"
   ]
  },
  {
   "cell_type": "code",
   "execution_count": 18,
   "id": "7d2c77fb-c205-459a-94d3-641fb1abf08f",
   "metadata": {},
   "outputs": [],
   "source": [
    "fit_names = fit_list[:,0]"
   ]
  },
  {
   "cell_type": "code",
   "execution_count": 19,
   "id": "60b59052-105a-4e44-b63f-284ff719448e",
   "metadata": {},
   "outputs": [],
   "source": [
    "missing = np.array(list(set(all_list) - set(fit_names)), dtype=str)"
   ]
  },
  {
   "cell_type": "code",
   "execution_count": 24,
   "id": "20c8b905-307a-4087-b569-32b4897bf651",
   "metadata": {},
   "outputs": [],
   "source": [
    "path_for_non_fit = []\n",
    "\n",
    "for k in missing:\n",
    "    path = 'spectra_reversed/'+k\n",
    "    \n",
    "    path_for_non_fit.append(path)\n",
    "\n",
    "np.savetxt('path_for_non_fit.txt',path_for_non_fit, fmt=\"%s\")"
   ]
  },
  {
   "cell_type": "code",
   "execution_count": null,
   "id": "03808822-d2e1-4bed-a9fb-08ffacc8ea73",
   "metadata": {},
   "outputs": [],
   "source": []
  }
 ],
 "metadata": {
  "kernelspec": {
   "display_name": "Python 3 (ipykernel)",
   "language": "python",
   "name": "python3"
  },
  "language_info": {
   "codemirror_mode": {
    "name": "ipython",
    "version": 3
   },
   "file_extension": ".py",
   "mimetype": "text/x-python",
   "name": "python",
   "nbconvert_exporter": "python",
   "pygments_lexer": "ipython3",
   "version": "3.9.13"
  }
 },
 "nbformat": 4,
 "nbformat_minor": 5
}
