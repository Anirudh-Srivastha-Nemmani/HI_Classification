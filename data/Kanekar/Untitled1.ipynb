{
 "cells": [
  {
   "cell_type": "code",
   "execution_count": 2,
   "id": "8dade5e1-6d8c-47cc-8e21-e6e409c00a05",
   "metadata": {},
   "outputs": [],
   "source": [
    "import numpy as np\n",
    "from glob import glob"
   ]
  },
  {
   "cell_type": "code",
   "execution_count": 3,
   "id": "3167d85d-3464-4cd6-aa59-1516bd0e713a",
   "metadata": {},
   "outputs": [],
   "source": [
    "list_ = np.sort(glob('./Spectra_flux_vs_velocity/*'))"
   ]
  },
  {
   "cell_type": "code",
   "execution_count": 4,
   "id": "83c5a1fe-c092-4aa9-b09d-16a8478ff5c2",
   "metadata": {},
   "outputs": [],
   "source": [
    "for i in list_:\n",
    "    name = i.split('/')[-1]\n",
    "    loaded = np.loadtxt(i)\n",
    "    loaded[:,1]*= -1\n",
    "    np.savetxt('velocity_spectra_reversed/'+name, loaded)"
   ]
  },
  {
   "cell_type": "code",
   "execution_count": null,
   "id": "dbe6f132-ac3a-450b-b93f-11be8c04d350",
   "metadata": {},
   "outputs": [],
   "source": []
  }
 ],
 "metadata": {
  "kernelspec": {
   "display_name": "Python 3 (ipykernel)",
   "language": "python",
   "name": "python3"
  },
  "language_info": {
   "codemirror_mode": {
    "name": "ipython",
    "version": 3
   },
   "file_extension": ".py",
   "mimetype": "text/x-python",
   "name": "python",
   "nbconvert_exporter": "python",
   "pygments_lexer": "ipython3",
   "version": "3.9.13"
  }
 },
 "nbformat": 4,
 "nbformat_minor": 5
}
