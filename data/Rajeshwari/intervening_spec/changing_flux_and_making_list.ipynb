{
 "cells": [
  {
   "cell_type": "code",
   "execution_count": 1,
   "id": "98399d8b-b4f6-487a-80c9-d76c9f01dcef",
   "metadata": {},
   "outputs": [],
   "source": [
    "import numpy as np\n",
    "import matplotlib.pyplot as plt\n",
    "from glob import glob\n",
    "import json\n",
    "\n",
    "data = np.sort( glob('spectra/*') )\n",
    "\n",
    "for i in data:\n",
    "    loaded = np.loadtxt(i)\n",
    "    loaded[:,1]*= -1\n",
    "    np.savetxt('spectra_reversed/'+i.split('/')[1].split('.DAT')[0]+\".DAT\", loaded)"
   ]
  },
  {
   "cell_type": "code",
   "execution_count": null,
   "id": "58980407-bb09-474c-b6da-98d99a88dec3",
   "metadata": {},
   "outputs": [],
   "source": []
  }
 ],
 "metadata": {
  "kernelspec": {
   "display_name": "Python 3 (ipykernel)",
   "language": "python",
   "name": "python3"
  },
  "language_info": {
   "codemirror_mode": {
    "name": "ipython",
    "version": 3
   },
   "file_extension": ".py",
   "mimetype": "text/x-python",
   "name": "python",
   "nbconvert_exporter": "python",
   "pygments_lexer": "ipython3",
   "version": "3.9.13"
  }
 },
 "nbformat": 4,
 "nbformat_minor": 5
}
