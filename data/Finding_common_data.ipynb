{
 "cells": [
  {
   "cell_type": "code",
   "execution_count": 1,
   "id": "ea9f311b-f47f-4dc0-be19-d6d7d5cd1291",
   "metadata": {},
   "outputs": [],
   "source": [
    "import numpy as np\n",
    "from glob import glob\n",
    "import json"
   ]
  },
  {
   "cell_type": "code",
   "execution_count": 2,
   "id": "5698c2a8-69a8-4144-b776-c27a603acd33",
   "metadata": {},
   "outputs": [
    {
     "name": "stderr",
     "output_type": "stream",
     "text": [
      "/tmp/ipykernel_13329/852230113.py:1: DeprecationWarning: `np.str` is a deprecated alias for the builtin `str`. To silence this warning, use `str` by itself. Doing this will not modify any behavior and is safe. If you specifically wanted the numpy scalar type, use `np.str_` here.\n",
      "Deprecated in NumPy 1.20; for more details and guidance: https://numpy.org/devdocs/release/1.20.0-notes.html#deprecations\n",
      "  data_m = np.loadtxt('./Maccagni/spectra_list_detections.txt', dtype=np.str)\n"
     ]
    }
   ],
   "source": [
    "data_m = np.loadtxt('./Maccagni/spectra_list_detections.txt', dtype=np.str)\n",
    "\n",
    "maccagni = []\n",
    "\n",
    "for i in data_m:\n",
    "    name = i.split('/')[-1].split('_spec.txt')[0]\n",
    "    maccagni.append(name)"
   ]
  },
  {
   "cell_type": "code",
   "execution_count": 3,
   "id": "0308e1c7-7b11-4073-ba8a-1da082d7a4a0",
   "metadata": {},
   "outputs": [],
   "source": [
    "data_r = np.sort( glob('./Rajeshwari/intervening_spec/spectra/*') )\n",
    "\n",
    "rajeshwari = []\n",
    "\n",
    "for i in data_r:\n",
    "    name = i.split('/')[4].split('SPEC_')[1].split('.')[0]\n",
    "    rajeshwari.append(name)"
   ]
  },
  {
   "cell_type": "code",
   "execution_count": 4,
   "id": "3c22e825-f93f-4850-849f-1eafce3ee1d9",
   "metadata": {},
   "outputs": [],
   "source": [
    "data_c_a = np.sort( glob('./Curran/profiles1/spectra/*') )\n",
    "\n",
    "curran_a = []\n",
    "\n",
    "for i in data_c_a:\n",
    "    name = i.split('/')[4].split('_')[0]\n",
    "    curran_a.append(name)"
   ]
  },
  {
   "cell_type": "code",
   "execution_count": 5,
   "id": "8e7dae95-364a-4b86-9aa7-1a6c7c1c2abe",
   "metadata": {},
   "outputs": [],
   "source": [
    "data_c_i = np.sort( glob('./Curran/profiles2/spectra/*') )\n",
    "\n",
    "curran_i = []\n",
    "\n",
    "for i in data_c_i:\n",
    "    name = i.split('/')[4].split('_')[0]\n",
    "    curran_i.append(name)"
   ]
  },
  {
   "cell_type": "code",
   "execution_count": 14,
   "id": "51331587-f8b1-42be-ad21-32ba4ec5a85b",
   "metadata": {
    "tags": []
   },
   "outputs": [
    {
     "data": {
      "text/plain": [
       "['J075756.71+395936.1',\n",
       " 'J080601.51+190614.7',\n",
       " 'J080938.88+345537.2',\n",
       " 'J082133.60+470237.3',\n",
       " 'J083548.14+151717.0',\n",
       " 'J083637.84+440109.6',\n",
       " 'J084307.11+453742.8',\n",
       " 'J090325.54+162256.0',\n",
       " 'J090734.91+325722.9',\n",
       " 'J090937.44+192808.2',\n",
       " 'J093551.59+612111.3',\n",
       " 'J102053.67+483124.3',\n",
       " 'J102400.53+511248.1',\n",
       " 'J102544.22+102230.4',\n",
       " 'J103932.12+461205.3',\n",
       " 'J105327.25+205835.9',\n",
       " 'J110017.98+100256.8',\n",
       " 'J111113.19+284147.0',\n",
       " 'J111916.54+623925.7',\n",
       " 'J112030.04+273610.7',\n",
       " 'J112332.04+235047.8',\n",
       " 'J120231.12+163741.8',\n",
       " 'J120551.46+203119.0',\n",
       " 'J120855.60+464113.8',\n",
       " 'J122513.09+321401.6',\n",
       " 'J123200.55+331747.6',\n",
       " 'J123905.13+174457.5',\n",
       " 'J124707.32+490017.9',\n",
       " 'J125433.26+185602.2',\n",
       " 'J130125.26+291849.5',\n",
       " 'J130132.61+463402.7',\n",
       " 'J130556.95+395621.5',\n",
       " 'J131535.10+620728.4',\n",
       " 'J131739.20+411545.6',\n",
       " 'J132035.40+340821.7',\n",
       " 'J132513.37+395553.2',\n",
       " 'J133455.94+134431.7',\n",
       " 'J133817.24+481629.7',\n",
       " 'J134035.20+444817.3',\n",
       " 'J134111.14+302241.3',\n",
       " 'J134442.16+555313.5',\n",
       " 'J134649.45+142401.7',\n",
       " 'J135217.88+312646.4',\n",
       " 'J135646.10+102609.0',\n",
       " 'J135806.05+214021.1',\n",
       " 'J142210.81+210554.1',\n",
       " 'J143521.67+505122.9',\n",
       " 'J144921.58+631614.0',\n",
       " 'J150034.56+364845.1',\n",
       " 'J150721.87+101844.8',\n",
       " 'J151319.23+343133.7',\n",
       " 'J152446.01+230723.5',\n",
       " 'J152922.49+362142.2',\n",
       " 'J153437.61+251311.4',\n",
       " 'J153452.95+290919.8',\n",
       " 'J155902.70+230830.4',\n",
       " 'J160246.39+524358.3',\n",
       " 'J160332.08+171155.3',\n",
       " 'J160338.06+155402.5',\n",
       " 'J160952.60+133148.0',\n",
       " 'J161217.62+282546.4',\n",
       " 'J161740.53+350015.1',\n",
       " 'J163804.02+264329.1',\n",
       " 'J163844.80+275439.1',\n",
       " 'J163956.07+112757.4',\n",
       " 'J170815.25+211117.7']"
      ]
     },
     "execution_count": 14,
     "metadata": {},
     "output_type": "execute_result"
    }
   ],
   "source": [
    "maccagni"
   ]
  },
  {
   "cell_type": "code",
   "execution_count": 7,
   "id": "3bf01d0a-6832-4c8b-931e-6c2473197a64",
   "metadata": {
    "tags": []
   },
   "outputs": [
    {
     "data": {
      "text/plain": [
       "['J0041S',\n",
       " 'J0849_2',\n",
       " 'J0921+6215',\n",
       " 'J1241',\n",
       " 'J1243',\n",
       " 'J1255+1817',\n",
       " 'J1327+4326',\n",
       " 'J1342+5110',\n",
       " 'J1428',\n",
       " 'J1438d',\n",
       " 'J1443',\n",
       " 'J1551',\n",
       " 'J1639',\n",
       " 'J2219+0229']"
      ]
     },
     "execution_count": 7,
     "metadata": {},
     "output_type": "execute_result"
    }
   ],
   "source": [
    "rajeshwari"
   ]
  },
  {
   "cell_type": "code",
   "execution_count": 8,
   "id": "5ebbbe8b-ee1a-4307-a8f9-a8b5d6a8644e",
   "metadata": {
    "collapsed": true,
    "jupyter": {
     "outputs_hidden": true
    },
    "tags": []
   },
   "outputs": [
    {
     "data": {
      "text/plain": [
       "['0003+380',\n",
       " '0035+22',\n",
       " '0202+14',\n",
       " '0229+0044',\n",
       " '0229+0053',\n",
       " '0248+430',\n",
       " '0300+380',\n",
       " '0834-20',\n",
       " '0941-08',\n",
       " '101301.60+244837.3',\n",
       " '1045+35A',\n",
       " '1147+557',\n",
       " '1200+045',\n",
       " '1221-423',\n",
       " '1245-197',\n",
       " '1345+12',\n",
       " '1456+375',\n",
       " '1465+375',\n",
       " '1540-1453',\n",
       " '1543+480',\n",
       " '1549-79',\n",
       " '1555-140',\n",
       " '1610-77',\n",
       " '1645+2230',\n",
       " '1740-517',\n",
       " '1954+513',\n",
       " '2351+456',\n",
       " 'J01465-0157',\n",
       " 'J0903+1622',\n",
       " 'J0919+0146',\n",
       " 'J0921+6215',\n",
       " 'J1039+4612',\n",
       " 'J1206+6413',\n",
       " 'J1209-2032',\n",
       " 'J1255+1817',\n",
       " 'J1327+4326',\n",
       " 'J1342+5110',\n",
       " 'J1357+0046',\n",
       " 'J1428+2103',\n",
       " 'J15131921+3431340',\n",
       " 'J1521+5508',\n",
       " 'J153452.95+290919.8',\n",
       " 'J1551+0713',\n",
       " 'J160246+524358',\n",
       " 'J17081524+2111175',\n",
       " 'J1945+7055',\n",
       " 'J2219+0229',\n",
       " 'J224500-343030']"
      ]
     },
     "execution_count": 8,
     "metadata": {},
     "output_type": "execute_result"
    }
   ],
   "source": [
    "curran_a"
   ]
  },
  {
   "cell_type": "code",
   "execution_count": 9,
   "id": "faa1023c-37d7-4699-b006-970cb2e848aa",
   "metadata": {
    "tags": []
   },
   "outputs": [
    {
     "data": {
      "text/plain": [
       "['0131-36',\n",
       " '0237-233',\n",
       " '0414+0534',\n",
       " '0458-020',\n",
       " '0500+019',\n",
       " '0809+483',\n",
       " '0952+179',\n",
       " '1057+1018',\n",
       " '1127-145',\n",
       " '1142+052',\n",
       " '1221-423',\n",
       " '1229-021',\n",
       " '1243-072',\n",
       " '1345+12',\n",
       " '1353+055',\n",
       " '1430-kpec09.dat',\n",
       " '1504+377',\n",
       " '1504+377',\n",
       " '1629+12',\n",
       " '1816-6572',\n",
       " '1830-211',\n",
       " '1830-211',\n",
       " '2003-025',\n",
       " '2039+187',\n",
       " '2121+24',\n",
       " '2226-184',\n",
       " '2226-184',\n",
       " '3C190',\n",
       " '3C236',\n",
       " '3C293',\n",
       " '3C305',\n",
       " '3C459',\n",
       " '4C12.50',\n",
       " 'IC',\n",
       " 'J0025-2602',\n",
       " 'J0119+3210',\n",
       " 'J0134-0931',\n",
       " 'J0141+1353',\n",
       " 'J0410+7656',\n",
       " 'J0414',\n",
       " 'J0431+2037',\n",
       " 'J0834+5535',\n",
       " 'J0849+5108',\n",
       " 'J0901+2901',\n",
       " 'J0909+4253',\n",
       " 'J1124+1919',\n",
       " 'J1148+5925',\n",
       " 'J1206+6413',\n",
       " 'J1326+3154',\n",
       " 'J1347+1217',\n",
       " 'J1357+4345',\n",
       " 'J1400+6210',\n",
       " 'J1407+2827',\n",
       " 'J1407+2827',\n",
       " 'J1431+3952',\n",
       " 'J1443+0214',\n",
       " 'J1545+4751',\n",
       " 'J1718+5441',\n",
       " 'J1815+6127',\n",
       " 'J1816+3457',\n",
       " 'J1821+3942',\n",
       " 'J1944+5448',\n",
       " 'J1945+7055',\n",
       " 'J2052+3635',\n",
       " 'J2255+1313',\n",
       " 'J2316+0405',\n",
       " 'J2316+0405',\n",
       " 'J2355+4950',\n",
       " 'OQ208',\n",
       " 'mot+01',\n",
       " 'mot+01',\n",
       " 'mot+01']"
      ]
     },
     "execution_count": 9,
     "metadata": {},
     "output_type": "execute_result"
    }
   ],
   "source": [
    "curran_i"
   ]
  },
  {
   "cell_type": "code",
   "execution_count": 12,
   "id": "b9ab3ceb-ee02-487d-8b37-e3a391033303",
   "metadata": {},
   "outputs": [
    {
     "name": "stdout",
     "output_type": "stream",
     "text": [
      "{'J153452.95+290919.8'}\n"
     ]
    }
   ],
   "source": [
    "#common list between maccagni and curran\n",
    "common_list_m_c = np.array(set(maccagni).intersection(set(curran_a)), dtype=str)\n",
    "print(common_list_m_c)"
   ]
  },
  {
   "cell_type": "code",
   "execution_count": 15,
   "id": "399c1b47-5959-47a7-8624-ffb7bfe0367d",
   "metadata": {},
   "outputs": [
    {
     "name": "stdout",
     "output_type": "stream",
     "text": [
      "set()\n"
     ]
    }
   ],
   "source": [
    "#common list between rajeshwari and curran\n",
    "common_list_m_c = np.array(set(rajeshwari).intersection(set(curran_i)), dtype=str)\n",
    "print(common_list_m_c)"
   ]
  },
  {
   "cell_type": "code",
   "execution_count": null,
   "id": "3fb2095c-f149-40a1-9825-bd35f71330a7",
   "metadata": {},
   "outputs": [],
   "source": []
  }
 ],
 "metadata": {
  "kernelspec": {
   "display_name": "Python 3 (ipykernel)",
   "language": "python",
   "name": "python3"
  },
  "language_info": {
   "codemirror_mode": {
    "name": "ipython",
    "version": 3
   },
   "file_extension": ".py",
   "mimetype": "text/x-python",
   "name": "python",
   "nbconvert_exporter": "python",
   "pygments_lexer": "ipython3",
   "version": "3.9.13"
  }
 },
 "nbformat": 4,
 "nbformat_minor": 5
}
