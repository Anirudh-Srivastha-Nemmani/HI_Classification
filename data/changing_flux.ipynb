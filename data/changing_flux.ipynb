{
 "cells": [
  {
   "cell_type": "code",
   "execution_count": 1,
   "id": "c063d1f5-779c-49fa-a648-ced4c1182747",
   "metadata": {},
   "outputs": [],
   "source": [
    "import numpy as np\n",
    "import matplotlib.pyplot as plt\n",
    "from glob import glob\n",
    "import json"
   ]
  },
  {
   "cell_type": "code",
   "execution_count": 4,
   "id": "6fa4da88-ee68-403a-b027-358d569d2dfd",
   "metadata": {},
   "outputs": [],
   "source": [
    "data = np.sort( glob('Intervening/*') )\n",
    "\n",
    "for i in data:\n",
    "    loaded = np.loadtxt(i)\n",
    "    loaded[:,1]*= -1\n",
    "    np.savetxt('Intervening_reversed/'+i.split('/')[1].split('.')[0]+\".DAT\", loaded)"
   ]
  },
  {
   "cell_type": "code",
   "execution_count": 5,
   "id": "45389fdc-ab8a-45e6-96ee-fae6f8bedda8",
   "metadata": {},
   "outputs": [],
   "source": [
    "data_a = np.sort( glob('Associated/*') )\n",
    "\n",
    "for i in data_a:\n",
    "    loaded = np.loadtxt(i)\n",
    "    loaded[:,1]*= -1\n",
    "    np.savetxt('Associated_reversed/'+i.split('/')[1].split('.')[0]+\".DAT\", loaded)"
   ]
  },
  {
   "cell_type": "code",
   "execution_count": null,
   "id": "3aed45a8-fff2-4b78-b0c3-fa2b021b58a8",
   "metadata": {},
   "outputs": [],
   "source": []
  }
 ],
 "metadata": {
  "kernelspec": {
   "display_name": "Python 3 (ipykernel)",
   "language": "python",
   "name": "python3"
  },
  "language_info": {
   "codemirror_mode": {
    "name": "ipython",
    "version": 3
   },
   "file_extension": ".py",
   "mimetype": "text/x-python",
   "name": "python",
   "nbconvert_exporter": "python",
   "pygments_lexer": "ipython3",
   "version": "3.9.13"
  }
 },
 "nbformat": 4,
 "nbformat_minor": 5
}
