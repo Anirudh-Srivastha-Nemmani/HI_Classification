{
 "cells": [
  {
   "cell_type": "code",
   "execution_count": 1,
   "id": "e05b176f-c7c7-43d9-a461-9d2aa017cd0a",
   "metadata": {},
   "outputs": [],
   "source": [
    "import numpy as np\n",
    "from glob import glob"
   ]
  },
  {
   "cell_type": "code",
   "execution_count": 2,
   "id": "a6e3bc47-9e0c-4aec-9e17-681cce114eee",
   "metadata": {},
   "outputs": [],
   "source": [
    "data_a = np.sort( glob('Associated_reversed/*') )\n",
    "np.savetxt('list_associated.txt', data_a, fmt=\"%s\")\n",
    "\n",
    "data_i = np.sort( glob('Intervening_reversed/*') )\n",
    "np.savetxt('list_intervening.txt', data_i, fmt=\"%s\")"
   ]
  },
  {
   "cell_type": "code",
   "execution_count": null,
   "id": "591cf523-68eb-4d44-8814-446b5e749b08",
   "metadata": {},
   "outputs": [],
   "source": []
  }
 ],
 "metadata": {
  "kernelspec": {
   "display_name": "Python 3 (ipykernel)",
   "language": "python",
   "name": "python3"
  },
  "language_info": {
   "codemirror_mode": {
    "name": "ipython",
    "version": 3
   },
   "file_extension": ".py",
   "mimetype": "text/x-python",
   "name": "python",
   "nbconvert_exporter": "python",
   "pygments_lexer": "ipython3",
   "version": "3.9.13"
  }
 },
 "nbformat": 4,
 "nbformat_minor": 5
}
