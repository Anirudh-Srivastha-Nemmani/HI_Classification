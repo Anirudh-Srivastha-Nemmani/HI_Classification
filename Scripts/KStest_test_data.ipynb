{
 "cells": [
  {
   "cell_type": "code",
   "execution_count": 2,
   "id": "fda083b5-ad43-4bea-b585-d27c2f7a6e7c",
   "metadata": {},
   "outputs": [],
   "source": [
    "import numpy as np\n",
    "import pandas as pd\n",
    "from scipy.stats import kstest"
   ]
  },
  {
   "cell_type": "code",
   "execution_count": 3,
   "id": "b0076259-1693-468b-bece-e46e60e82822",
   "metadata": {},
   "outputs": [],
   "source": [
    "data = pd.read_csv('data_1.csv')"
   ]
  },
  {
   "cell_type": "code",
   "execution_count": 15,
   "id": "91d30d11-6e75-4012-bc96-6bfc79484f50",
   "metadata": {},
   "outputs": [],
   "source": [
    "col = np.array(data.columns[4:15], dtype = str)"
   ]
  },
  {
   "cell_type": "code",
   "execution_count": 18,
   "id": "516f36a6-2b2d-4183-90f5-5d966a72d8a9",
   "metadata": {},
   "outputs": [
    {
     "name": "stdout",
     "output_type": "stream",
     "text": [
      "KS Test between Intervening and Associated Spectra for the parameter  Z is :  KstestResult(statistic=0.4303571428571429, pvalue=5.259824072062822e-06)\n",
      "KS Test between Intervening and Associated Spectra for the parameter  G_NO is :  KstestResult(statistic=0.05892857142857143, pvalue=0.9993072188258684)\n",
      "KS Test between Intervening and Associated Spectra for the parameter  ZERO-TO-ZERO is :  KstestResult(statistic=0.6767857142857143, pvalue=6.4979352364213815e-15)\n",
      "KS Test between Intervening and Associated Spectra for the parameter  AVE_PEAK is :  KstestResult(statistic=0.18571428571428572, pvalue=0.1798228403579472)\n",
      "KS Test between Intervening and Associated Spectra for the parameter  MAX_PEAK is :  KstestResult(statistic=0.16964285714285715, pvalue=0.2650977640707121)\n",
      "KS Test between Intervening and Associated Spectra for the parameter  MIN_PEAK is :  KstestResult(statistic=0.2392857142857143, pvalue=0.038075613514961165)\n",
      "KS Test between Intervening and Associated Spectra for the parameter  AVE_V is :  KstestResult(statistic=0.24642857142857144, pvalue=0.030041466779780583)\n",
      "KS Test between Intervening and Associated Spectra for the parameter  AVE_V_over_Z2Z is :  KstestResult(statistic=0.14464285714285716, pvalue=0.44953988637703846)\n",
      "KS Test between Intervening and Associated Spectra for the parameter  AVE_FWHM is :  KstestResult(statistic=0.6196428571428572, pvalue=2.214749887607187e-12)\n",
      "KS Test between Intervening and Associated Spectra for the parameter  MAX_FWHM is :  KstestResult(statistic=0.6625, pvalue=3.008593801693764e-14)\n",
      "KS Test between Intervening and Associated Spectra for the parameter  MIN_FWHM is :  KstestResult(statistic=0.55, pvalue=1.0582675846174581e-09)\n"
     ]
    }
   ],
   "source": [
    "for i in col:\n",
    "    \n",
    "    set_int = data[i].iloc[0:56]\n",
    "    set_ass = data[i].iloc[56:136]\n",
    "    \n",
    "    ks = kstest(set_int, set_ass)\n",
    "    print(\"KS Test between Intervening and Associated Spectra for the parameter \", i, \"is : \", ks)"
   ]
  },
  {
   "cell_type": "code",
   "execution_count": null,
   "id": "fa465826-9232-45e0-add0-81a59505972a",
   "metadata": {},
   "outputs": [],
   "source": []
  }
 ],
 "metadata": {
  "kernelspec": {
   "display_name": "Python 3 (ipykernel)",
   "language": "python",
   "name": "python3"
  },
  "language_info": {
   "codemirror_mode": {
    "name": "ipython",
    "version": 3
   },
   "file_extension": ".py",
   "mimetype": "text/x-python",
   "name": "python",
   "nbconvert_exporter": "python",
   "pygments_lexer": "ipython3",
   "version": "3.9.13"
  }
 },
 "nbformat": 4,
 "nbformat_minor": 5
}
