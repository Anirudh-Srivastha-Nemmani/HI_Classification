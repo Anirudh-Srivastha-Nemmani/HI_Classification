{
 "cells": [
  {
   "cell_type": "code",
   "execution_count": 34,
   "id": "943007c3-00e9-4838-8e84-54b4407599b8",
   "metadata": {},
   "outputs": [],
   "source": [
    "# Associated (excluding Maccagni)\n",
    "#normalised spectra\n",
    "normali = ['data/Associated_reversed/J1209-2032_mpg+20.DAT', 'data/Associated_reversed/J2316+0405_gss+06.DAT', 'data/Associated_reversed/J1347+1217_gss+06.DAT', 'data/Associated_reversed/J1124+1919_gss+06.DAT', 'data/Associated_reversed/1345+12_gss+06.DAT', 'data/Associated_reversed/1540-1453_gss+21.DAT']\n",
    "\n",
    "#deltaS/S spectra\n",
    "dels = ['data/Associated_reversed/J224500-343030_asd+19.DAT', 'data/Associated_reversed/1740-517_asm+15.DAT']\n",
    "\n",
    "#Redo spectra\n",
    "redo = ['data/Associated_reversed/1456+375_ak18.DAT', 'data/Associated_reversed/1645+2230_adi19.DAT']\n",
    "\n",
    "\n",
    "#Intervening"
   ]
  },
  {
   "cell_type": "code",
   "execution_count": 50,
   "id": "8181ff11-1ee9-403a-b77c-cfd86392dee1",
   "metadata": {},
   "outputs": [],
   "source": [
    "#Some data in associated (excluding maccagni) have spectra where it's in mJy instead of Jy. We convert all spectra into Jy\n",
    "\n",
    "#for associated\n",
    "import numpy as np\n",
    "spec = ['data/Associated_reversed/0003+380_ak18.DAT', 'data/Associated_reversed/0229+0044_ckc20.DAT', 'data/Associated_reversed/0229+0053_ckc20.DAT', 'data/Associated_reversed/101301.DAT', 'data/Associated_reversed/1045+35A_adi.DAT', 'data/Associated_reversed/1142+052_kpec09.DAT', 'data/Associated_reversed/1200+045_ak17.DAT', 'data/Associated_reversed/1245-197_ak17.DAT', 'data/Associated_reversed/1504+377_cmr+98.DAT', 'data/Associated_reversed/2121+24_mir89.DAT', 'data/Associated_reversed/J01465-0157_adi19.DAT','data/Associated_reversed/J153452.DAT', 'data/Associated_reversed/SPEC_J0919+0146.DAT', 'data/Associated_reversed/SPEC_J1521+5508.DAT', 'data/Associated_reversed/1543+480_ak18.DAT']"
   ]
  },
  {
   "cell_type": "code",
   "execution_count": 51,
   "id": "5bfa0bfe-3050-43df-8fcc-a83f5b1b1d55",
   "metadata": {},
   "outputs": [],
   "source": [
    "for i in spec:\n",
    "    loaded = np.loadtxt(i)\n",
    "    loaded[:,1]*= 0.001\n",
    "    np.savetxt('associated_final/'+i.split('/')[-1].split('.')[0]+\".DAT\", loaded)"
   ]
  },
  {
   "cell_type": "code",
   "execution_count": 52,
   "id": "d535a49d-ef5d-4d2c-8d4e-6397e7e0e50f",
   "metadata": {},
   "outputs": [],
   "source": [
    "##normal Jy files\n",
    "\n",
    "spec_Jy = np.loadtxt('list_associated_new.txt', dtype='str')"
   ]
  },
  {
   "cell_type": "code",
   "execution_count": 53,
   "id": "0431c85e-5d03-4aec-a015-f87e7dedf43b",
   "metadata": {},
   "outputs": [],
   "source": [
    "for i in spec_Jy:\n",
    "    loaded = np.loadtxt(i)\n",
    "    np.savetxt('associated_final/'+i.split('/')[-1].split('.')[0]+\".DAT\", loaded)"
   ]
  },
  {
   "cell_type": "code",
   "execution_count": 54,
   "id": "517fdedb-0c75-45c1-9309-2959165d82aa",
   "metadata": {},
   "outputs": [],
   "source": [
    "# now making a final list\n",
    "from glob import glob"
   ]
  },
  {
   "cell_type": "code",
   "execution_count": 55,
   "id": "a9d3c430-49b1-4e5c-8640-9d8f8a125f8c",
   "metadata": {},
   "outputs": [],
   "source": [
    "list_asso = np.sort( glob('associated_final/*') )\n",
    "np.savetxt('list_associated_final.txt', list_asso, fmt='%s')"
   ]
  },
  {
   "cell_type": "code",
   "execution_count": 56,
   "id": "be1789f1-748a-43e6-b389-6c536e483260",
   "metadata": {},
   "outputs": [
    {
     "data": {
      "text/plain": [
       "33"
      ]
     },
     "execution_count": 56,
     "metadata": {},
     "output_type": "execute_result"
    }
   ],
   "source": [
    "len(list_asso)"
   ]
  },
  {
   "cell_type": "code",
   "execution_count": 58,
   "id": "0114c2d9-1870-4f76-8459-5c53dd01e609",
   "metadata": {},
   "outputs": [],
   "source": [
    "spec_i = ['data/Intervening_reversed/SPEC_J0041S.DAT','data/Intervening_reversed/SPEC_J0849_2.DAT','data/Intervening_reversed/SPEC_J0921+6215.DAT','data/Intervening_reversed/SPEC_J1241.DAT','data/Intervening_reversed/SPEC_J1243.DAT','data/Intervening_reversed/SPEC_J1255+1817.DAT','data/Intervening_reversed/SPEC_J1327+4326.DAT','data/Intervening_reversed/SPEC_J1342+5110.DAT','data/Intervening_reversed/SPEC_J1428.DAT','data/Intervening_reversed/SPEC_J1438d.DAT','data/Intervening_reversed/SPEC_J1443.DAT','data/Intervening_reversed/SPEC_J1551.DAT','data/Intervening_reversed/SPEC_J1639.DAT','data/Intervening_reversed/SPEC_J2219+0229.DAT','data/Intervening_reversed/0237-233_kpec09.DAT','data/Intervening_reversed/1127-145_lsb+98.DAT','data/Intervening_reversed/1243-072_lb01.DAT','data/Intervening_reversed/1430-kpec09.DAT', 'data/Intervening_reversed/2003-025_kpec09.DAT', 'data/Intervening_reversed/J1431+3952_ekp+12.DAT']"
   ]
  },
  {
   "cell_type": "code",
   "execution_count": 60,
   "id": "a4246ab7-cdce-4fec-ac13-05df4e45fb31",
   "metadata": {},
   "outputs": [],
   "source": [
    "for i in spec_i:\n",
    "    loaded = np.loadtxt(i)\n",
    "    loaded[:,1]*= 0.001\n",
    "    np.savetxt('intervening_final/'+i.split('/')[-1].split('.')[0]+\".DAT\", loaded)"
   ]
  },
  {
   "cell_type": "code",
   "execution_count": 62,
   "id": "aab3db7d-0f79-4e00-ae04-a6c99d243c50",
   "metadata": {},
   "outputs": [],
   "source": [
    "gg = np.loadtxt('data/Intervening_reversed/0414+0534_YY+cwt+11.DAT')\n",
    "gg[:,1]*= 0.01\n",
    "np.savetxt('intervening_final/0414+0534_YY+cwt+11.DAT',gg)"
   ]
  },
  {
   "cell_type": "code",
   "execution_count": 63,
   "id": "414b1a55-0c83-45d6-8a13-962269253627",
   "metadata": {},
   "outputs": [
    {
     "data": {
      "text/plain": [
       "'\\nnormalised intervening spectra \\ndata/Intervening_reversed/J0849+5108_gsn+13.DAT\\n\\ndata/Intervening_reversed/J1443+0214_gsn+13.DAT\\n'"
      ]
     },
     "execution_count": 63,
     "metadata": {},
     "output_type": "execute_result"
    }
   ],
   "source": [
    "'''\n",
    "normalised intervening spectra \n",
    "data/Intervening_reversed/J0849+5108_gsn+13.DAT\n",
    "\n",
    "data/Intervening_reversed/J1443+0214_gsn+13.DAT\n",
    "'''"
   ]
  },
  {
   "cell_type": "code",
   "execution_count": 64,
   "id": "8597c91a-02f1-497f-8b6f-cb9034bfae42",
   "metadata": {},
   "outputs": [],
   "source": [
    "spec_i_Jy = ['data/Intervening_reversed/0809+483_bdv01.DAT', 'data/Intervening_reversed/1629+12_kc02.DAT', 'data/Intervening_reversed/1830-211_cdn99.DAT', 'data/Intervening_reversed/2351+456_dgh+04.DAT']"
   ]
  },
  {
   "cell_type": "code",
   "execution_count": 65,
   "id": "5024189d-f310-420e-b194-546d5c22cfc9",
   "metadata": {},
   "outputs": [],
   "source": [
    "for i in spec_i_Jy:\n",
    "    loaded = np.loadtxt(i)\n",
    "    np.savetxt('intervening_final/'+i.split('/')[-1].split('.')[0]+\".DAT\", loaded)"
   ]
  },
  {
   "cell_type": "code",
   "execution_count": 66,
   "id": "508f4771-0f8e-4b42-a4ed-8cf0a7a84913",
   "metadata": {},
   "outputs": [],
   "source": [
    "list_int = np.sort( glob('intervening_final/*') )\n",
    "np.savetxt('list_intervening_final.txt', list_int, fmt='%s')"
   ]
  },
  {
   "cell_type": "code",
   "execution_count": null,
   "id": "260a0f20-5516-463e-9559-5d93c230ea54",
   "metadata": {},
   "outputs": [],
   "source": []
  }
 ],
 "metadata": {
  "kernelspec": {
   "display_name": "Python 3 (ipykernel)",
   "language": "python",
   "name": "python3"
  },
  "language_info": {
   "codemirror_mode": {
    "name": "ipython",
    "version": 3
   },
   "file_extension": ".py",
   "mimetype": "text/x-python",
   "name": "python",
   "nbconvert_exporter": "python",
   "pygments_lexer": "ipython3",
   "version": "3.9.13"
  }
 },
 "nbformat": 4,
 "nbformat_minor": 5
}
