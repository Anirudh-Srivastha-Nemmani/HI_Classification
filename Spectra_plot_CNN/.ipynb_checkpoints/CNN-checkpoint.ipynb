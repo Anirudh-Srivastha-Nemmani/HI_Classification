{
 "cells": [
  {
   "cell_type": "code",
   "execution_count": 1,
   "id": "2a08d88a-6808-45c5-9a23-b32ae7288243",
   "metadata": {},
   "outputs": [],
   "source": [
    "from glob import glob\n",
    "import numpy as np"
   ]
  },
  {
   "cell_type": "code",
   "execution_count": 2,
   "id": "16042b00-d4b0-41eb-aadb-1156fb3f06a1",
   "metadata": {},
   "outputs": [],
   "source": [
    "ass = np.sort( glob('./dataset/Associated/*') )\n",
    "inte = np.sort( glob('./dataset/Intervening/*') )"
   ]
  },
  {
   "cell_type": "code",
   "execution_count": 3,
   "id": "58489a5b-1189-4f87-8c08-b7c246526611",
   "metadata": {},
   "outputs": [],
   "source": [
    "ass_list = []\n",
    "for i in ass:\n",
    "    name = i\n",
    "    label = 0\n",
    "    ass_list.append([name, label])"
   ]
  },
  {
   "cell_type": "code",
   "execution_count": 4,
   "id": "3bd4ffdc-7376-478f-889f-32638360d214",
   "metadata": {},
   "outputs": [],
   "source": [
    "int_list = []\n",
    "for i in inte:\n",
    "    name = i\n",
    "    label = 1\n",
    "    int_list.append([name, label])"
   ]
  },
  {
   "cell_type": "code",
   "execution_count": 5,
   "id": "c27e0208-1af5-45d3-a709-7fb7e21eb9c1",
   "metadata": {},
   "outputs": [],
   "source": [
    "tot_list = np.vstack((ass_list, int_list))"
   ]
  },
  {
   "cell_type": "code",
   "execution_count": 6,
   "id": "ad76522b-a047-4b13-b7d0-56ffcd734a14",
   "metadata": {
    "tags": []
   },
   "outputs": [],
   "source": [
    "import pandas as pd\n",
    "df = pd.DataFrame(tot_list, columns = ['file_name','label'])"
   ]
  },
  {
   "cell_type": "code",
   "execution_count": 7,
   "id": "db25142e-f5a9-4a53-ab6e-ca4e4ddc3cfc",
   "metadata": {
    "tags": []
   },
   "outputs": [
    {
     "data": {
      "text/html": [
       "<div>\n",
       "<style scoped>\n",
       "    .dataframe tbody tr th:only-of-type {\n",
       "        vertical-align: middle;\n",
       "    }\n",
       "\n",
       "    .dataframe tbody tr th {\n",
       "        vertical-align: top;\n",
       "    }\n",
       "\n",
       "    .dataframe thead th {\n",
       "        text-align: right;\n",
       "    }\n",
       "</style>\n",
       "<table border=\"1\" class=\"dataframe\">\n",
       "  <thead>\n",
       "    <tr style=\"text-align: right;\">\n",
       "      <th></th>\n",
       "      <th>file_name</th>\n",
       "      <th>label</th>\n",
       "    </tr>\n",
       "  </thead>\n",
       "  <tbody>\n",
       "    <tr>\n",
       "      <th>0</th>\n",
       "      <td>./dataset/Associated/1.png</td>\n",
       "      <td>0</td>\n",
       "    </tr>\n",
       "    <tr>\n",
       "      <th>1</th>\n",
       "      <td>./dataset/Associated/10.png</td>\n",
       "      <td>0</td>\n",
       "    </tr>\n",
       "    <tr>\n",
       "      <th>2</th>\n",
       "      <td>./dataset/Associated/11.png</td>\n",
       "      <td>0</td>\n",
       "    </tr>\n",
       "    <tr>\n",
       "      <th>3</th>\n",
       "      <td>./dataset/Associated/12.png</td>\n",
       "      <td>0</td>\n",
       "    </tr>\n",
       "    <tr>\n",
       "      <th>4</th>\n",
       "      <td>./dataset/Associated/13.png</td>\n",
       "      <td>0</td>\n",
       "    </tr>\n",
       "    <tr>\n",
       "      <th>...</th>\n",
       "      <td>...</td>\n",
       "      <td>...</td>\n",
       "    </tr>\n",
       "    <tr>\n",
       "      <th>119</th>\n",
       "      <td>./dataset/Intervening/5.png</td>\n",
       "      <td>1</td>\n",
       "    </tr>\n",
       "    <tr>\n",
       "      <th>120</th>\n",
       "      <td>./dataset/Intervening/6.png</td>\n",
       "      <td>1</td>\n",
       "    </tr>\n",
       "    <tr>\n",
       "      <th>121</th>\n",
       "      <td>./dataset/Intervening/7.png</td>\n",
       "      <td>1</td>\n",
       "    </tr>\n",
       "    <tr>\n",
       "      <th>122</th>\n",
       "      <td>./dataset/Intervening/8.png</td>\n",
       "      <td>1</td>\n",
       "    </tr>\n",
       "    <tr>\n",
       "      <th>123</th>\n",
       "      <td>./dataset/Intervening/9.png</td>\n",
       "      <td>1</td>\n",
       "    </tr>\n",
       "  </tbody>\n",
       "</table>\n",
       "<p>124 rows × 2 columns</p>\n",
       "</div>"
      ],
      "text/plain": [
       "                       file_name label\n",
       "0     ./dataset/Associated/1.png     0\n",
       "1    ./dataset/Associated/10.png     0\n",
       "2    ./dataset/Associated/11.png     0\n",
       "3    ./dataset/Associated/12.png     0\n",
       "4    ./dataset/Associated/13.png     0\n",
       "..                           ...   ...\n",
       "119  ./dataset/Intervening/5.png     1\n",
       "120  ./dataset/Intervening/6.png     1\n",
       "121  ./dataset/Intervening/7.png     1\n",
       "122  ./dataset/Intervening/8.png     1\n",
       "123  ./dataset/Intervening/9.png     1\n",
       "\n",
       "[124 rows x 2 columns]"
      ]
     },
     "execution_count": 7,
     "metadata": {},
     "output_type": "execute_result"
    }
   ],
   "source": [
    "df"
   ]
  },
  {
   "cell_type": "code",
   "execution_count": 8,
   "id": "fa55fb7c-7e2d-4d04-b69b-c8b026dd199e",
   "metadata": {},
   "outputs": [
    {
     "name": "stderr",
     "output_type": "stream",
     "text": [
      "2022-12-01 19:02:43.583550: I tensorflow/core/platform/cpu_feature_guard.cc:193] This TensorFlow binary is optimized with oneAPI Deep Neural Network Library (oneDNN) to use the following CPU instructions in performance-critical operations:  AVX2 AVX512F AVX512_VNNI FMA\n",
      "To enable them in other operations, rebuild TensorFlow with the appropriate compiler flags.\n",
      "2022-12-01 19:02:43.886747: I tensorflow/core/util/util.cc:169] oneDNN custom operations are on. You may see slightly different numerical results due to floating-point round-off errors from different computation orders. To turn them off, set the environment variable `TF_ENABLE_ONEDNN_OPTS=0`.\n",
      "2022-12-01 19:02:43.914948: W tensorflow/stream_executor/platform/default/dso_loader.cc:64] Could not load dynamic library 'libcudart.so.11.0'; dlerror: libcudart.so.11.0: cannot open shared object file: No such file or directory; LD_LIBRARY_PATH: /home/anirudh/anaconda3/envs/igwn-py39/lib/python3.9/site-packages/cv2/../../lib64:/home/anirudh/anaconda3/envs/igwn-py39/bin:/home/anirudh/local/src/lib:\n",
      "2022-12-01 19:02:43.914966: I tensorflow/stream_executor/cuda/cudart_stub.cc:29] Ignore above cudart dlerror if you do not have a GPU set up on your machine.\n",
      "2022-12-01 19:02:43.952486: E tensorflow/stream_executor/cuda/cuda_blas.cc:2981] Unable to register cuBLAS factory: Attempting to register factory for plugin cuBLAS when one has already been registered\n",
      "2022-12-01 19:02:44.720053: W tensorflow/stream_executor/platform/default/dso_loader.cc:64] Could not load dynamic library 'libnvinfer.so.7'; dlerror: libnvinfer.so.7: cannot open shared object file: No such file or directory; LD_LIBRARY_PATH: /home/anirudh/anaconda3/envs/igwn-py39/lib/python3.9/site-packages/cv2/../../lib64:/home/anirudh/anaconda3/envs/igwn-py39/bin:/home/anirudh/local/src/lib:\n",
      "2022-12-01 19:02:44.720607: W tensorflow/stream_executor/platform/default/dso_loader.cc:64] Could not load dynamic library 'libnvinfer_plugin.so.7'; dlerror: libnvinfer_plugin.so.7: cannot open shared object file: No such file or directory; LD_LIBRARY_PATH: /home/anirudh/anaconda3/envs/igwn-py39/lib/python3.9/site-packages/cv2/../../lib64:/home/anirudh/anaconda3/envs/igwn-py39/bin:/home/anirudh/local/src/lib:\n",
      "2022-12-01 19:02:44.720615: W tensorflow/compiler/tf2tensorrt/utils/py_utils.cc:38] TF-TRT Warning: Cannot dlopen some TensorRT libraries. If you would like to use Nvidia GPU with TensorRT, please make sure the missing libraries mentioned above are installed properly.\n"
     ]
    }
   ],
   "source": [
    "import cv2\n",
    "import matplotlib.pyplot as plt\n",
    "from tensorflow.keras.preprocessing import image"
   ]
  },
  {
   "cell_type": "code",
   "execution_count": 9,
   "id": "f25c2b3e-c936-4003-9ed7-c88695cc11c7",
   "metadata": {},
   "outputs": [],
   "source": [
    "from tensorflow.keras.preprocessing.image import ImageDataGenerator\n",
    "rescale = ImageDataGenerator(rescale = 1/255, validation_split=0.2)"
   ]
  },
  {
   "cell_type": "code",
   "execution_count": 46,
   "id": "c3dcfc37-c1e0-463d-aa1f-cc48f45ee771",
   "metadata": {},
   "outputs": [
    {
     "name": "stdout",
     "output_type": "stream",
     "text": [
      "Found 100 images belonging to 2 classes.\n",
      "Found 25 images belonging to 2 classes.\n"
     ]
    }
   ],
   "source": [
    "# #to remove .ipynb_checkpoints folder\n",
    "# import os\n",
    "# dir = os.listdir('./dataset')\n",
    "# print(dir)\n",
    "# file_path = ('./dataset/.ipynb_checkpoints')\n",
    "# os.rmdir(file_path)\n",
    "\n",
    "train_generator = rescale.flow_from_directory(\n",
    "    './dataset/',\n",
    "    target_size=(200,200),\n",
    "    # batch_size=3,\n",
    "    color_mode='grayscale',\n",
    "    class_mode='binary',\n",
    "    subset='training') # set as training data\n",
    "\n",
    "validation_generator = rescale.flow_from_directory(\n",
    "    './dataset/', # same directory as training data\n",
    "    target_size=(200, 200),\n",
    "    # batch_size=3,\n",
    "    color_mode='grayscale',\n",
    "    class_mode='binary',\n",
    "    subset='validation') # set as validation data"
   ]
  },
  {
   "cell_type": "code",
   "execution_count": 47,
   "id": "a17e83a3-4fd0-4c00-8c1e-c54e76328756",
   "metadata": {},
   "outputs": [],
   "source": [
    "import tensorflow as tf\n",
    "from tensorflow.keras.optimizers import RMSprop\n",
    "from tensorflow.keras.optimizers import Adam"
   ]
  },
  {
   "cell_type": "code",
   "execution_count": 52,
   "id": "e8467e9b-ba3a-401e-b292-97f24d20f75f",
   "metadata": {},
   "outputs": [],
   "source": [
    "model = tf.keras.models.Sequential(\n",
    "[ tf.keras.layers.Conv2D(8, (3, 3), activation='relu', input_shape=(200, 200, 1)),\n",
    " tf.keras.layers.MaxPool2D(2, 2),\n",
    " #\n",
    " # tf.keras.layers.Conv2D(8, (3, 3), activation='relu'),\n",
    " # tf.keras.layers.MaxPool2D(2, 2),\n",
    " #\n",
    " tf.keras.layers.Conv2D(8, (3, 3), activation='relu'),\n",
    " tf.keras.layers.MaxPool2D(2, 2),\n",
    " #\n",
    " tf.keras.layers.Flatten(),\n",
    " #\n",
    " tf.keras.layers.Dense(16, activation='relu'),\n",
    " #\n",
    " tf.keras.layers.Dense(1, activation='sigmoid')\n",
    "]\n",
    ")"
   ]
  },
  {
   "cell_type": "code",
   "execution_count": 53,
   "id": "ad4eed2e-2013-4796-8c60-770b7819928d",
   "metadata": {},
   "outputs": [],
   "source": [
    "model.compile(optimizer=tf.keras.optimizers.Adam(learning_rate=10**(-3)), loss='binary_crossentropy', metrics=['accuracy'])"
   ]
  },
  {
   "cell_type": "code",
   "execution_count": 54,
   "id": "deef07aa-70cd-41e2-bfae-e57b4b442d8c",
   "metadata": {
    "tags": []
   },
   "outputs": [
    {
     "name": "stdout",
     "output_type": "stream",
     "text": [
      "Epoch 1/30\n",
      "4/4 [==============================] - 1s 313ms/step - loss: 0.7220 - accuracy: 0.5600 - val_loss: 0.5654 - val_accuracy: 0.8000\n",
      "Epoch 2/30\n",
      "4/4 [==============================] - 1s 248ms/step - loss: 0.5090 - accuracy: 0.8000 - val_loss: 0.5095 - val_accuracy: 0.8000\n",
      "Epoch 3/30\n",
      "4/4 [==============================] - 1s 131ms/step - loss: 0.5048 - accuracy: 0.8000 - val_loss: 0.5411 - val_accuracy: 0.8000\n",
      "Epoch 4/30\n",
      "4/4 [==============================] - 1s 161ms/step - loss: 0.5249 - accuracy: 0.8000 - val_loss: 0.5097 - val_accuracy: 0.8000\n",
      "Epoch 5/30\n",
      "4/4 [==============================] - 1s 149ms/step - loss: 0.4832 - accuracy: 0.8000 - val_loss: 0.5254 - val_accuracy: 0.8000\n",
      "Epoch 6/30\n",
      "4/4 [==============================] - 1s 133ms/step - loss: 0.5174 - accuracy: 0.8000 - val_loss: 0.5330 - val_accuracy: 0.8000\n",
      "Epoch 7/30\n",
      "4/4 [==============================] - 1s 182ms/step - loss: 0.5188 - accuracy: 0.8000 - val_loss: 0.5043 - val_accuracy: 0.8000\n",
      "Epoch 8/30\n",
      "4/4 [==============================] - 1s 138ms/step - loss: 0.4827 - accuracy: 0.8000 - val_loss: 0.5059 - val_accuracy: 0.8000\n",
      "Epoch 9/30\n",
      "4/4 [==============================] - 1s 165ms/step - loss: 0.4780 - accuracy: 0.8000 - val_loss: 0.5088 - val_accuracy: 0.8000\n",
      "Epoch 10/30\n",
      "4/4 [==============================] - 1s 135ms/step - loss: 0.4714 - accuracy: 0.8000 - val_loss: 0.5139 - val_accuracy: 0.8000\n",
      "Epoch 11/30\n",
      "4/4 [==============================] - 1s 127ms/step - loss: 0.4686 - accuracy: 0.8000 - val_loss: 0.5191 - val_accuracy: 0.8000\n",
      "Epoch 12/30\n",
      "4/4 [==============================] - 1s 134ms/step - loss: 0.4502 - accuracy: 0.8000 - val_loss: 0.5333 - val_accuracy: 0.8000\n",
      "Epoch 13/30\n",
      "4/4 [==============================] - 1s 133ms/step - loss: 0.4641 - accuracy: 0.8000 - val_loss: 0.5342 - val_accuracy: 0.8000\n",
      "Epoch 14/30\n",
      "4/4 [==============================] - 1s 174ms/step - loss: 0.4446 - accuracy: 0.8000 - val_loss: 0.5471 - val_accuracy: 0.8000\n",
      "Epoch 15/30\n",
      "4/4 [==============================] - 1s 133ms/step - loss: 0.4335 - accuracy: 0.8000 - val_loss: 0.5436 - val_accuracy: 0.8000\n",
      "Epoch 16/30\n",
      "4/4 [==============================] - 1s 134ms/step - loss: 0.4172 - accuracy: 0.8000 - val_loss: 0.5571 - val_accuracy: 0.8000\n",
      "Epoch 17/30\n",
      "4/4 [==============================] - 1s 176ms/step - loss: 0.4101 - accuracy: 0.8000 - val_loss: 0.5851 - val_accuracy: 0.8000\n",
      "Epoch 18/30\n",
      "4/4 [==============================] - 1s 161ms/step - loss: 0.3963 - accuracy: 0.8000 - val_loss: 0.5972 - val_accuracy: 0.8000\n",
      "Epoch 19/30\n",
      "4/4 [==============================] - 1s 133ms/step - loss: 0.3839 - accuracy: 0.8000 - val_loss: 0.6088 - val_accuracy: 0.8000\n",
      "Epoch 20/30\n",
      "4/4 [==============================] - 1s 129ms/step - loss: 0.3693 - accuracy: 0.8000 - val_loss: 0.6302 - val_accuracy: 0.8000\n",
      "Epoch 21/30\n",
      "4/4 [==============================] - 1s 172ms/step - loss: 0.3740 - accuracy: 0.8000 - val_loss: 0.6393 - val_accuracy: 0.8000\n",
      "Epoch 22/30\n",
      "4/4 [==============================] - 1s 177ms/step - loss: 0.3593 - accuracy: 0.8000 - val_loss: 0.6665 - val_accuracy: 0.8000\n",
      "Epoch 23/30\n",
      "4/4 [==============================] - 1s 172ms/step - loss: 0.3432 - accuracy: 0.8000 - val_loss: 0.6632 - val_accuracy: 0.8000\n",
      "Epoch 24/30\n",
      "4/4 [==============================] - 1s 145ms/step - loss: 0.3324 - accuracy: 0.8000 - val_loss: 0.6738 - val_accuracy: 0.8000\n",
      "Epoch 25/30\n",
      "4/4 [==============================] - 1s 188ms/step - loss: 0.3226 - accuracy: 0.8000 - val_loss: 0.6903 - val_accuracy: 0.8000\n",
      "Epoch 26/30\n",
      "4/4 [==============================] - 1s 152ms/step - loss: 0.3188 - accuracy: 0.8000 - val_loss: 0.6924 - val_accuracy: 0.8000\n",
      "Epoch 27/30\n",
      "4/4 [==============================] - 1s 158ms/step - loss: 0.3147 - accuracy: 0.8900 - val_loss: 0.6858 - val_accuracy: 0.8000\n",
      "Epoch 28/30\n",
      "4/4 [==============================] - 1s 135ms/step - loss: 0.3175 - accuracy: 0.9100 - val_loss: 0.6816 - val_accuracy: 0.8000\n",
      "Epoch 29/30\n",
      "4/4 [==============================] - 1s 141ms/step - loss: 0.3051 - accuracy: 0.8500 - val_loss: 0.6828 - val_accuracy: 0.8000\n",
      "Epoch 30/30\n",
      "4/4 [==============================] - 1s 139ms/step - loss: 0.2831 - accuracy: 0.8100 - val_loss: 0.7009 - val_accuracy: 0.8000\n"
     ]
    }
   ],
   "source": [
    "from keras.callbacks import ModelCheckpoint\n",
    "checkpoint_name = './NN_Checklist/model_2/Weights-{epoch:03d}--{val_loss:.5f}.h5'\n",
    "checkpoint = ModelCheckpoint(checkpoint_name, monitor='val_loss', verbose = 0, save_best_only = True, mode ='auto')\n",
    "callbacks_list = [checkpoint]\n",
    "\n",
    "model_fit = model.fit(train_generator, epochs=30, validation_data=validation_generator, callbacks=callbacks_list)"
   ]
  },
  {
   "cell_type": "code",
   "execution_count": 55,
   "id": "369c8c70-25ca-4301-aa13-3b5c9d79bebe",
   "metadata": {},
   "outputs": [
    {
     "data": {
      "image/png": "[encoded data removed]",
      "text/plain": [
       "<Figure size 640x480 with 1 Axes>"
      ]
     },
     "metadata": {},
     "output_type": "display_data"
    }
   ],
   "source": [
    "plt.plot(model_fit.history['accuracy'])\n",
    "plt.plot(model_fit.history['val_accuracy'])\n",
    "plt.title('model accuracy')\n",
    "plt.ylabel('accuracy')\n",
    "plt.xlabel('epoch')\n",
    "plt.legend(['train', 'test'])\n",
    "plt.show()\n",
    "# y_pred_nn = model.predict(xtest_nn) > 0.5\n",
    "# mat = confusion_matrix(y_test_nn, y_pred_nn)\n",
    "# labels = ['Associated', 'Intervening']\n",
    " \n",
    "# sns.heatmap(mat, square=True, annot=True, fmt='d', cbar=False, cmap='Blues', xticklabels=labels, yticklabels=labels)\n",
    "# plt.xlabel('Predicted label')\n",
    "# plt.ylabel('Actual label')"
   ]
  },
  {
   "cell_type": "markdown",
   "id": "1f8a4ea0-ae9d-442a-851a-7a32867ad1f4",
   "metadata": {},
   "source": [
    "# With K-fold"
   ]
  },
  {
   "cell_type": "code",
   "execution_count": 44,
   "id": "13d50cd7-c461-424f-8e0a-51b1e0bfe5d9",
   "metadata": {},
   "outputs": [
    {
     "name": "stdout",
     "output_type": "stream",
     "text": [
      "Found 125 images belonging to 2 classes.\n"
     ]
    }
   ],
   "source": [
    "train_datagen = ImageDataGenerator(rescale=1./255)\n",
    "data = train_datagen.flow_from_directory(\n",
    "    './dataset/',\n",
    "    target_size=(200,200),\n",
    "    color_mode='grayscale',\n",
    "    class_mode='binary')\n",
    "\n",
    "x, y = data.next()"
   ]
  },
  {
   "cell_type": "code",
   "execution_count": 45,
   "id": "d6b836ba-d70a-4056-bdef-2062a8c26eba",
   "metadata": {},
   "outputs": [
    {
     "ename": "NameError",
     "evalue": "name 'create_callbacks' is not defined",
     "output_type": "error",
     "traceback": [
      "\u001b[0;31m---------------------------------------------------------------------------\u001b[0m",
      "\u001b[0;31mNameError\u001b[0m                                 Traceback (most recent call last)",
      "Input \u001b[0;32mIn [45]\u001b[0m, in \u001b[0;36m<cell line: 4>\u001b[0;34m()\u001b[0m\n\u001b[1;32m      4\u001b[0m \u001b[38;5;28;01mfor\u001b[39;00m train, test \u001b[38;5;129;01min\u001b[39;00m kfold\u001b[38;5;241m.\u001b[39msplit(x, y):\n\u001b[1;32m      5\u001b[0m     model_name \u001b[38;5;241m=\u001b[39m \u001b[38;5;124mf\u001b[39m\u001b[38;5;124m'\u001b[39m\u001b[38;5;124m./output/models/best-model-kfold-\u001b[39m\u001b[38;5;132;01m{\u001b[39;00mfold\u001b[38;5;132;01m}\u001b[39;00m\u001b[38;5;124m.hdf5\u001b[39m\u001b[38;5;124m'\u001b[39m\n\u001b[0;32m----> 6\u001b[0m     history \u001b[38;5;241m=\u001b[39m model\u001b[38;5;241m.\u001b[39mfit(x[train], y[train], epochs\u001b[38;5;241m=\u001b[39m\u001b[38;5;241m30\u001b[39m, callbacks\u001b[38;5;241m=\u001b[39m\u001b[43mcreate_callbacks\u001b[49m(model_name))\n\u001b[1;32m      7\u001b[0m     all_history[\u001b[38;5;124mf\u001b[39m\u001b[38;5;124m'\u001b[39m\u001b[38;5;124mhistory-fold-\u001b[39m\u001b[38;5;132;01m{\u001b[39;00mfold\u001b[38;5;132;01m}\u001b[39;00m\u001b[38;5;124m'\u001b[39m] \u001b[38;5;241m=\u001b[39m history\n\u001b[1;32m      8\u001b[0m     fold \u001b[38;5;241m+\u001b[39m\u001b[38;5;241m=\u001b[39m \u001b[38;5;241m1\u001b[39m\n",
      "\u001b[0;31mNameError\u001b[0m: name 'create_callbacks' is not defined"
     ]
    }
   ],
   "source": [
    "from sklearn.model_selection import KFold\n",
    "kfold = KFold(n_splits=10, shuffle=True)\n",
    "fold = 1\n",
    "for train, test in kfold.split(x, y):\n",
    "    history = model.fit(x[train], y[train], epochs=30)\n",
    "    fold += 1"
   ]
  },
  {
   "cell_type": "code",
   "execution_count": null,
   "id": "957fbd5b-e032-4a62-8aa9-b37aef19247c",
   "metadata": {},
   "outputs": [],
   "source": []
  }
 ],
 "metadata": {
  "kernelspec": {
   "display_name": "Python 3 (ipykernel)",
   "language": "python",
   "name": "python3"
  },
  "language_info": {
   "codemirror_mode": {
    "name": "ipython",
    "version": 3
   },
   "file_extension": ".py",
   "mimetype": "text/x-python",
   "name": "python",
   "nbconvert_exporter": "python",
   "pygments_lexer": "ipython3",
   "version": "3.9.13"
  }
 },
 "nbformat": 4,
 "nbformat_minor": 5
}
