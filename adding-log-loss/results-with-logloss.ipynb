{
 "cells": [
  {
   "cell_type": "code",
   "execution_count": null,
   "metadata": {},
   "outputs": [],
   "source": [
    "import numpy as np\n",
    "import pandas as pd\n",
    "import matplotlib.pyplot as plt\n",
    "%matplotlib inline\n",
    "plt.rcParams.update({\n",
    "    \"text.usetex\": True,\n",
    "    \"font.family\": \"Helvetica\"\n",
    "})\n",
    "\n",
    "from sklearn.ensemble import RandomForestClassifier\n",
    "from sklearn.preprocessing import StandardScaler\n",
    "sc_x = StandardScaler()\n",
    "\n",
    "from sklearn.linear_model import LogisticRegressionCV\n",
    "from sklearn.svm import SVC  \n",
    "from sklearn.tree import DecisionTreeClassifier\n",
    "\n",
    "from sklearn.model_selection import cross_val_score\n",
    "from sklearn.model_selection import RepeatedStratifiedKFold\n",
    "from imblearn.pipeline import Pipeline\n",
    "from imblearn.over_sampling import SMOTE\n",
    "from sklearn.metrics import auc\n",
    "from sklearn.metrics import roc_curve"
   ]
  },
  {
   "cell_type": "code",
   "execution_count": 2,
   "metadata": {},
   "outputs": [
    {
     "data": {
      "text/html": [
       "<div>\n",
       "<style scoped>\n",
       "    .dataframe tbody tr th:only-of-type {\n",
       "        vertical-align: middle;\n",
       "    }\n",
       "\n",
       "    .dataframe tbody tr th {\n",
       "        vertical-align: top;\n",
       "    }\n",
       "\n",
       "    .dataframe thead th {\n",
       "        text-align: right;\n",
       "    }\n",
       "</style>\n",
       "<table border=\"1\" class=\"dataframe\">\n",
       "  <thead>\n",
       "    <tr style=\"text-align: right;\">\n",
       "      <th></th>\n",
       "      <th>Filename</th>\n",
       "      <th>Success</th>\n",
       "      <th>Nchan</th>\n",
       "      <th>dof</th>\n",
       "      <th>chi^2</th>\n",
       "      <th>chi^2/dof</th>\n",
       "      <th>rms</th>\n",
       "      <th>A</th>\n",
       "      <th>dA</th>\n",
       "      <th>B_1</th>\n",
       "      <th>...</th>\n",
       "      <th>dX</th>\n",
       "      <th>W_50</th>\n",
       "      <th>dW_50</th>\n",
       "      <th>W_20</th>\n",
       "      <th>dW_20</th>\n",
       "      <th>F_peak</th>\n",
       "      <th>dF_peak</th>\n",
       "      <th>F_int</th>\n",
       "      <th>dF_int</th>\n",
       "      <th>Class</th>\n",
       "    </tr>\n",
       "  </thead>\n",
       "  <tbody>\n",
       "    <tr>\n",
       "      <th>0</th>\n",
       "      <td>0003+380_ak18.DAT</td>\n",
       "      <td>0</td>\n",
       "      <td>42</td>\n",
       "      <td>37</td>\n",
       "      <td>22.08120</td>\n",
       "      <td>0.596788</td>\n",
       "      <td>0.01</td>\n",
       "      <td>7.033000e-02</td>\n",
       "      <td>4.490010e-02</td>\n",
       "      <td>0.158193</td>\n",
       "      <td>...</td>\n",
       "      <td>0.000000e+00</td>\n",
       "      <td>0.00000</td>\n",
       "      <td>0.000000e+00</td>\n",
       "      <td>0.00000</td>\n",
       "      <td>0.000000e+00</td>\n",
       "      <td>0.056207</td>\n",
       "      <td>5.420480e-03</td>\n",
       "      <td>0.000000</td>\n",
       "      <td>0.000000e+00</td>\n",
       "      <td>0</td>\n",
       "    </tr>\n",
       "    <tr>\n",
       "      <th>1</th>\n",
       "      <td>0035+22_omd+17.DAT</td>\n",
       "      <td>0</td>\n",
       "      <td>57</td>\n",
       "      <td>49</td>\n",
       "      <td>3.19013</td>\n",
       "      <td>0.065105</td>\n",
       "      <td>0.01</td>\n",
       "      <td>7.603450e-03</td>\n",
       "      <td>1.642290e-01</td>\n",
       "      <td>3.618170</td>\n",
       "      <td>...</td>\n",
       "      <td>5.104230e+03</td>\n",
       "      <td>169.00500</td>\n",
       "      <td>1.372020e+04</td>\n",
       "      <td>183.26100</td>\n",
       "      <td>1.044720e+04</td>\n",
       "      <td>0.020974</td>\n",
       "      <td>2.964040e-01</td>\n",
       "      <td>2.507320</td>\n",
       "      <td>1.558770e+02</td>\n",
       "      <td>0</td>\n",
       "    </tr>\n",
       "    <tr>\n",
       "      <th>2</th>\n",
       "      <td>0105-008_gmrt.freq</td>\n",
       "      <td>1</td>\n",
       "      <td>171</td>\n",
       "      <td>166</td>\n",
       "      <td>11.97330</td>\n",
       "      <td>0.072128</td>\n",
       "      <td>0.01</td>\n",
       "      <td>2.438270e-01</td>\n",
       "      <td>3.728630e+00</td>\n",
       "      <td>0.139187</td>\n",
       "      <td>...</td>\n",
       "      <td>1.250210e+00</td>\n",
       "      <td>15.33200</td>\n",
       "      <td>1.821070e+00</td>\n",
       "      <td>23.94890</td>\n",
       "      <td>2.427310e+00</td>\n",
       "      <td>0.059377</td>\n",
       "      <td>5.261230e-03</td>\n",
       "      <td>0.986714</td>\n",
       "      <td>9.323590e-02</td>\n",
       "      <td>0</td>\n",
       "    </tr>\n",
       "    <tr>\n",
       "      <th>3</th>\n",
       "      <td>0941-08_omd+17.DAT</td>\n",
       "      <td>2</td>\n",
       "      <td>63</td>\n",
       "      <td>58</td>\n",
       "      <td>13.72410</td>\n",
       "      <td>0.236623</td>\n",
       "      <td>0.01</td>\n",
       "      <td>1.816270e-02</td>\n",
       "      <td>5.183430e-03</td>\n",
       "      <td>0.375388</td>\n",
       "      <td>...</td>\n",
       "      <td>1.694480e+17</td>\n",
       "      <td>271.15100</td>\n",
       "      <td>1.903000e+17</td>\n",
       "      <td>316.23400</td>\n",
       "      <td>2.873760e+17</td>\n",
       "      <td>0.018163</td>\n",
       "      <td>9.322750e+04</td>\n",
       "      <td>4.928510</td>\n",
       "      <td>5.865600e+15</td>\n",
       "      <td>0</td>\n",
       "    </tr>\n",
       "    <tr>\n",
       "      <th>4</th>\n",
       "      <td>101301.DAT</td>\n",
       "      <td>0</td>\n",
       "      <td>154</td>\n",
       "      <td>149</td>\n",
       "      <td>3.49873</td>\n",
       "      <td>0.023481</td>\n",
       "      <td>0.01</td>\n",
       "      <td>5.352310e-03</td>\n",
       "      <td>1.697720e-03</td>\n",
       "      <td>0.050057</td>\n",
       "      <td>...</td>\n",
       "      <td>2.363250e+01</td>\n",
       "      <td>201.07300</td>\n",
       "      <td>5.071530e+01</td>\n",
       "      <td>243.04300</td>\n",
       "      <td>6.576720e+01</td>\n",
       "      <td>0.005352</td>\n",
       "      <td>1.694540e-03</td>\n",
       "      <td>1.076170</td>\n",
       "      <td>2.963070e-01</td>\n",
       "      <td>0</td>\n",
       "    </tr>\n",
       "    <tr>\n",
       "      <th>...</th>\n",
       "      <td>...</td>\n",
       "      <td>...</td>\n",
       "      <td>...</td>\n",
       "      <td>...</td>\n",
       "      <td>...</td>\n",
       "      <td>...</td>\n",
       "      <td>...</td>\n",
       "      <td>...</td>\n",
       "      <td>...</td>\n",
       "      <td>...</td>\n",
       "      <td>...</td>\n",
       "      <td>...</td>\n",
       "      <td>...</td>\n",
       "      <td>...</td>\n",
       "      <td>...</td>\n",
       "      <td>...</td>\n",
       "      <td>...</td>\n",
       "      <td>...</td>\n",
       "      <td>...</td>\n",
       "      <td>...</td>\n",
       "      <td>...</td>\n",
       "    </tr>\n",
       "    <tr>\n",
       "      <th>39</th>\n",
       "      <td>SPEC_J1639.DAT</td>\n",
       "      <td>0</td>\n",
       "      <td>512</td>\n",
       "      <td>504</td>\n",
       "      <td>6577.90000</td>\n",
       "      <td>13.051400</td>\n",
       "      <td>0.01</td>\n",
       "      <td>4.809480e-01</td>\n",
       "      <td>2.592260e-01</td>\n",
       "      <td>0.210122</td>\n",
       "      <td>...</td>\n",
       "      <td>5.206090e-02</td>\n",
       "      <td>23.00760</td>\n",
       "      <td>1.183090e-01</td>\n",
       "      <td>30.30620</td>\n",
       "      <td>2.114130e-01</td>\n",
       "      <td>0.661494</td>\n",
       "      <td>4.192530e-03</td>\n",
       "      <td>15.045100</td>\n",
       "      <td>6.214660e-02</td>\n",
       "      <td>1</td>\n",
       "    </tr>\n",
       "    <tr>\n",
       "      <th>40</th>\n",
       "      <td>SPEC_J2219+0229.DAT</td>\n",
       "      <td>1</td>\n",
       "      <td>1117</td>\n",
       "      <td>1109</td>\n",
       "      <td>5530.31000</td>\n",
       "      <td>4.986750</td>\n",
       "      <td>0.01</td>\n",
       "      <td>2.891930e-01</td>\n",
       "      <td>1.366910e+01</td>\n",
       "      <td>0.222174</td>\n",
       "      <td>...</td>\n",
       "      <td>4.426460e-01</td>\n",
       "      <td>11.09360</td>\n",
       "      <td>3.617770e-01</td>\n",
       "      <td>36.07690</td>\n",
       "      <td>8.071830e-01</td>\n",
       "      <td>0.250818</td>\n",
       "      <td>6.521780e-03</td>\n",
       "      <td>3.945680</td>\n",
       "      <td>1.054660e-01</td>\n",
       "      <td>1</td>\n",
       "    </tr>\n",
       "    <tr>\n",
       "      <th>41</th>\n",
       "      <td>1331+170_arecibo.freq</td>\n",
       "      <td>1</td>\n",
       "      <td>247</td>\n",
       "      <td>242</td>\n",
       "      <td>112.78600</td>\n",
       "      <td>0.466058</td>\n",
       "      <td>0.01</td>\n",
       "      <td>5.307520e+07</td>\n",
       "      <td>7.146710e+10</td>\n",
       "      <td>0.010981</td>\n",
       "      <td>...</td>\n",
       "      <td>2.015020e+00</td>\n",
       "      <td>24.36920</td>\n",
       "      <td>6.327290e+00</td>\n",
       "      <td>37.92810</td>\n",
       "      <td>6.963300e+00</td>\n",
       "      <td>0.034750</td>\n",
       "      <td>6.056060e-03</td>\n",
       "      <td>0.920237</td>\n",
       "      <td>2.582000e-01</td>\n",
       "      <td>1</td>\n",
       "    </tr>\n",
       "    <tr>\n",
       "      <th>42</th>\n",
       "      <td>SPEC_J0041S.DAT</td>\n",
       "      <td>0</td>\n",
       "      <td>483</td>\n",
       "      <td>475</td>\n",
       "      <td>489.00700</td>\n",
       "      <td>1.029490</td>\n",
       "      <td>0.01</td>\n",
       "      <td>6.564260e-02</td>\n",
       "      <td>1.071500e-01</td>\n",
       "      <td>0.519419</td>\n",
       "      <td>...</td>\n",
       "      <td>7.477110e-01</td>\n",
       "      <td>8.35918</td>\n",
       "      <td>1.629950e+00</td>\n",
       "      <td>12.39470</td>\n",
       "      <td>2.113430e+00</td>\n",
       "      <td>0.057690</td>\n",
       "      <td>8.816000e-03</td>\n",
       "      <td>0.501437</td>\n",
       "      <td>6.219430e-02</td>\n",
       "      <td>1</td>\n",
       "    </tr>\n",
       "    <tr>\n",
       "      <th>43</th>\n",
       "      <td>SPEC_J1551.DAT</td>\n",
       "      <td>0</td>\n",
       "      <td>494</td>\n",
       "      <td>489</td>\n",
       "      <td>1869.19000</td>\n",
       "      <td>3.822470</td>\n",
       "      <td>0.01</td>\n",
       "      <td>2.683400e-01</td>\n",
       "      <td>1.681430e+00</td>\n",
       "      <td>9.502230</td>\n",
       "      <td>...</td>\n",
       "      <td>2.852700e+14</td>\n",
       "      <td>2.76772</td>\n",
       "      <td>3.479100e+15</td>\n",
       "      <td>5.02711</td>\n",
       "      <td>2.536400e+15</td>\n",
       "      <td>0.162067</td>\n",
       "      <td>2.001240e+14</td>\n",
       "      <td>0.512282</td>\n",
       "      <td>8.419800e+13</td>\n",
       "      <td>1</td>\n",
       "    </tr>\n",
       "  </tbody>\n",
       "</table>\n",
       "<p>119 rows × 34 columns</p>\n",
       "</div>"
      ],
      "text/plain": [
       "                 Filename  Success  Nchan   dof       chi^2  chi^2/dof   rms  \\\n",
       "0       0003+380_ak18.DAT        0     42    37    22.08120   0.596788  0.01   \n",
       "1      0035+22_omd+17.DAT        0     57    49     3.19013   0.065105  0.01   \n",
       "2      0105-008_gmrt.freq        1    171   166    11.97330   0.072128  0.01   \n",
       "3      0941-08_omd+17.DAT        2     63    58    13.72410   0.236623  0.01   \n",
       "4              101301.DAT        0    154   149     3.49873   0.023481  0.01   \n",
       "..                    ...      ...    ...   ...         ...        ...   ...   \n",
       "39         SPEC_J1639.DAT        0    512   504  6577.90000  13.051400  0.01   \n",
       "40    SPEC_J2219+0229.DAT        1   1117  1109  5530.31000   4.986750  0.01   \n",
       "41  1331+170_arecibo.freq        1    247   242   112.78600   0.466058  0.01   \n",
       "42        SPEC_J0041S.DAT        0    483   475   489.00700   1.029490  0.01   \n",
       "43         SPEC_J1551.DAT        0    494   489  1869.19000   3.822470  0.01   \n",
       "\n",
       "               A            dA       B_1  ...            dX       W_50  \\\n",
       "0   7.033000e-02  4.490010e-02  0.158193  ...  0.000000e+00    0.00000   \n",
       "1   7.603450e-03  1.642290e-01  3.618170  ...  5.104230e+03  169.00500   \n",
       "2   2.438270e-01  3.728630e+00  0.139187  ...  1.250210e+00   15.33200   \n",
       "3   1.816270e-02  5.183430e-03  0.375388  ...  1.694480e+17  271.15100   \n",
       "4   5.352310e-03  1.697720e-03  0.050057  ...  2.363250e+01  201.07300   \n",
       "..           ...           ...       ...  ...           ...        ...   \n",
       "39  4.809480e-01  2.592260e-01  0.210122  ...  5.206090e-02   23.00760   \n",
       "40  2.891930e-01  1.366910e+01  0.222174  ...  4.426460e-01   11.09360   \n",
       "41  5.307520e+07  7.146710e+10  0.010981  ...  2.015020e+00   24.36920   \n",
       "42  6.564260e-02  1.071500e-01  0.519419  ...  7.477110e-01    8.35918   \n",
       "43  2.683400e-01  1.681430e+00  9.502230  ...  2.852700e+14    2.76772   \n",
       "\n",
       "           dW_50       W_20         dW_20    F_peak       dF_peak      F_int  \\\n",
       "0   0.000000e+00    0.00000  0.000000e+00  0.056207  5.420480e-03   0.000000   \n",
       "1   1.372020e+04  183.26100  1.044720e+04  0.020974  2.964040e-01   2.507320   \n",
       "2   1.821070e+00   23.94890  2.427310e+00  0.059377  5.261230e-03   0.986714   \n",
       "3   1.903000e+17  316.23400  2.873760e+17  0.018163  9.322750e+04   4.928510   \n",
       "4   5.071530e+01  243.04300  6.576720e+01  0.005352  1.694540e-03   1.076170   \n",
       "..           ...        ...           ...       ...           ...        ...   \n",
       "39  1.183090e-01   30.30620  2.114130e-01  0.661494  4.192530e-03  15.045100   \n",
       "40  3.617770e-01   36.07690  8.071830e-01  0.250818  6.521780e-03   3.945680   \n",
       "41  6.327290e+00   37.92810  6.963300e+00  0.034750  6.056060e-03   0.920237   \n",
       "42  1.629950e+00   12.39470  2.113430e+00  0.057690  8.816000e-03   0.501437   \n",
       "43  3.479100e+15    5.02711  2.536400e+15  0.162067  2.001240e+14   0.512282   \n",
       "\n",
       "          dF_int  Class  \n",
       "0   0.000000e+00      0  \n",
       "1   1.558770e+02      0  \n",
       "2   9.323590e-02      0  \n",
       "3   5.865600e+15      0  \n",
       "4   2.963070e-01      0  \n",
       "..           ...    ...  \n",
       "39  6.214660e-02      1  \n",
       "40  1.054660e-01      1  \n",
       "41  2.582000e-01      1  \n",
       "42  6.219430e-02      1  \n",
       "43  8.419800e+13      1  \n",
       "\n",
       "[119 rows x 34 columns]"
      ]
     },
     "execution_count": 2,
     "metadata": {},
     "output_type": "execute_result"
    }
   ],
   "source": [
    "tot_fit = pd.read_csv('./HI_ML/final_fit.csv', index_col=0)\n",
    "tot_fit"
   ]
  },
  {
   "cell_type": "markdown",
   "metadata": {},
   "source": [
    "# Decision Tree"
   ]
  },
  {
   "cell_type": "markdown",
   "metadata": {},
   "source": [
    "## Non Redshifted Parameters"
   ]
  },
  {
   "cell_type": "code",
   "execution_count": 3,
   "metadata": {},
   "outputs": [
    {
     "name": "stdout",
     "output_type": "stream",
     "text": [
      "roc_auc is 0.862\n",
      "accuracy is 0.828\n",
      "average_precision is 0.772\n",
      "recall is 0.79\n",
      "neg_log_loss is -3.162\n"
     ]
    }
   ],
   "source": [
    "# input\n",
    "X = tot_fit.iloc[:, [7, 9, 11, 13, 15, 17, 21, 29, 31]].values #excluding 19, 23, 25, 27 columns\n",
    "# output\n",
    "y = tot_fit.iloc[:, 33].values.astype('int')\n",
    "\n",
    "cv = RepeatedStratifiedKFold(n_splits=10, n_repeats=100, random_state=0)\n",
    "\n",
    "steps_dt = [('over', SMOTE(sampling_strategy=1, random_state=0)), ('model', DecisionTreeClassifier(criterion='gini', max_depth=4, max_features=None, min_samples_leaf=4, min_samples_split=2 , splitter = 'best', random_state=0))]#('model', DecisionTreeClassifier(criterion='gini', max_depth=1, max_features=None, min_samples_leaf=1, min_samples_split=2, splitter='best', random_state=0))]\n",
    "pipeline_dt = Pipeline(steps=steps_dt)\n",
    "\n",
    "score_list = ['roc_auc', 'accuracy', 'average_precision', 'recall', 'neg_log_loss']\n",
    "\n",
    "for i in score_list:\n",
    "    print('{} is {}'.format(i, round(np.mean(cross_val_score(pipeline_dt, X, y, scoring=i, cv=cv, n_jobs=-1)), 3)))"
   ]
  },
  {
   "cell_type": "code",
   "execution_count": 4,
   "metadata": {},
   "outputs": [
    {
     "name": "stdout",
     "output_type": "stream",
     "text": [
      "roc_auc is 0.862\n",
      "accuracy is 0.828\n",
      "average_precision is 0.772\n",
      "recall is 0.79\n",
      "neg_log_loss is -3.162\n"
     ]
    }
   ],
   "source": [
    "## Previous best fit\n",
    "\n",
    "# input\n",
    "X = tot_fit.iloc[:, [7, 9, 11, 13, 15, 17, 21, 29, 31]].values #excluding 19, 23, 25, 27 columns\n",
    "# output\n",
    "y = tot_fit.iloc[:, 33].values.astype('int')\n",
    "\n",
    "cv = RepeatedStratifiedKFold(n_splits=10, n_repeats=100, random_state=0)\n",
    "\n",
    "steps_dt = [('over', SMOTE(sampling_strategy=1, random_state=0)), ('model', DecisionTreeClassifier(criterion='gini', max_depth=4, max_features=None, min_samples_leaf=4, min_samples_split=2 , splitter = 'best', random_state=0))]\n",
    "pipeline_dt = Pipeline(steps=steps_dt)\n",
    "\n",
    "score_list = ['roc_auc', 'accuracy', 'average_precision', 'recall', 'neg_log_loss']\n",
    "\n",
    "for i in score_list:\n",
    "    print('{} is {}'.format(i, round(np.mean(cross_val_score(pipeline_dt, X, y, scoring=i, cv=cv, n_jobs=-1)), 3)))"
   ]
  },
  {
   "cell_type": "markdown",
   "metadata": {},
   "source": [
    "## Redshifted Parameters"
   ]
  },
  {
   "cell_type": "code",
   "execution_count": 5,
   "metadata": {},
   "outputs": [
    {
     "name": "stdout",
     "output_type": "stream",
     "text": [
      "roc_auc is 0.871\n",
      "accuracy is 0.87\n",
      "average_precision is 0.766\n",
      "recall is 0.874\n",
      "neg_log_loss is -0.406\n"
     ]
    }
   ],
   "source": [
    "# input\n",
    "X = tot_fit.iloc[:, [7, 9, 11, 13, 15, 17, 19, 21, 23, 25, 27, 29, 31]].values \n",
    "# output\n",
    "y = tot_fit.iloc[:, 33].values.astype('int')\n",
    "\n",
    "cv = RepeatedStratifiedKFold(n_splits=10, n_repeats=100, random_state=0)\n",
    "\n",
    "steps = [('over', SMOTE(sampling_strategy=1, random_state=0)), ('model', DecisionTreeClassifier(criterion='gini', max_depth=1, max_features=None, min_samples_leaf=1, min_samples_split=2, splitter='best', random_state=0))]\n",
    "pipeline = Pipeline(steps=steps)\n",
    "\n",
    "score_list = ['roc_auc', 'accuracy', 'average_precision', 'recall', 'neg_log_loss']\n",
    "\n",
    "for i in score_list:\n",
    "    print('{} is {}'.format(i, round(np.mean(cross_val_score(pipeline, X, y, scoring=i, cv=cv, n_jobs=-1)), 3)))"
   ]
  },
  {
   "cell_type": "code",
   "execution_count": 6,
   "metadata": {},
   "outputs": [
    {
     "name": "stdout",
     "output_type": "stream",
     "text": [
      "roc_auc is 0.903\n",
      "accuracy is 0.877\n",
      "average_precision is 0.83\n",
      "recall is 0.884\n",
      "neg_log_loss is -1.455\n"
     ]
    }
   ],
   "source": [
    "## Previous best fit\n",
    "# input\n",
    "X = tot_fit.iloc[:, [7, 9, 11, 13, 15, 17, 19, 21, 23, 25, 27, 29, 31]].values \n",
    "# output\n",
    "y = tot_fit.iloc[:, 33].values.astype('int')\n",
    "\n",
    "cv = RepeatedStratifiedKFold(n_splits=10, n_repeats=100, random_state=0)\n",
    "\n",
    "steps = [('over', SMOTE(sampling_strategy=1, random_state=0)), ('model', DecisionTreeClassifier(criterion='gini', max_depth=6, max_features='sqrt', min_samples_leaf=2, min_samples_split=3 , splitter = 'random', random_state=0))]\n",
    "pipeline = Pipeline(steps=steps)\n",
    "\n",
    "score_list = ['roc_auc', 'accuracy', 'average_precision', 'recall', 'neg_log_loss']\n",
    "\n",
    "for i in score_list:\n",
    "    print('{} is {}'.format(i, round(np.mean(cross_val_score(pipeline, X, y, scoring=i, cv=cv, n_jobs=-1)), 3)))"
   ]
  },
  {
   "cell_type": "markdown",
   "metadata": {},
   "source": [
    "# Random Forest"
   ]
  },
  {
   "cell_type": "markdown",
   "metadata": {},
   "source": [
    "## Non Redshifted Parameters"
   ]
  },
  {
   "cell_type": "code",
   "execution_count": 7,
   "metadata": {},
   "outputs": [
    {
     "name": "stdout",
     "output_type": "stream",
     "text": [
      "roc_auc for SMOTE Model is 0.608\n",
      "accuracy for SMOTE Model is 0.677\n",
      "average_precision for SMOTE Model is 0.495\n",
      "recall for SMOTE Model is 0.345\n",
      "neg_log_loss for SMOTE Model is -0.711\n"
     ]
    }
   ],
   "source": [
    "# input\n",
    "X = tot_fit.iloc[:, [7, 9, 11, 13, 15, 17, 21, 29, 31]].values #excluding 19, 23, 25, 27 columns\n",
    "# output\n",
    "y = tot_fit.iloc[:, 33].values.astype('int')\n",
    "\n",
    "cv = RepeatedStratifiedKFold(n_splits=10, n_repeats=100, random_state=0)\n",
    "\n",
    "steps = [('over', SMOTE(sampling_strategy=1, random_state=0)), ('model', RandomForestClassifier(n_estimators=1, max_depth=1, max_features='sqrt', min_samples_leaf=1, min_samples_split=2, bootstrap=True, random_state=0))]\n",
    "pipeline = Pipeline(steps=steps)\n",
    "\n",
    "score_list = ['roc_auc', 'accuracy', 'average_precision', 'recall', 'neg_log_loss']\n",
    "\n",
    "for i in score_list:\n",
    "    print('{} for SMOTE Model is {}'.format(i, round(np.mean(cross_val_score(pipeline, X, y, scoring=i, cv=cv, n_jobs=-1)), 3)))"
   ]
  },
  {
   "cell_type": "code",
   "execution_count": 8,
   "metadata": {},
   "outputs": [
    {
     "name": "stdout",
     "output_type": "stream",
     "text": [
      "roc_auc for SMOTE Model is 0.91\n",
      "accuracy for SMOTE Model is 0.858\n",
      "average_precision for SMOTE Model is 0.868\n",
      "recall for SMOTE Model is 0.854\n",
      "neg_log_loss for SMOTE Model is -0.799\n"
     ]
    }
   ],
   "source": [
    "## Previous best fit\n",
    "# input\n",
    "X = tot_fit.iloc[:, [7, 9, 11, 13, 15, 17, 21, 29, 31]].values #excluding 19, 23, 25, 27 columns\n",
    "# output\n",
    "y = tot_fit.iloc[:, 33].values.astype('int')\n",
    "\n",
    "cv = RepeatedStratifiedKFold(n_splits=10, n_repeats=100, random_state=0)\n",
    "\n",
    "steps = [('over', SMOTE(sampling_strategy=1, random_state=0)), ('model', RandomForestClassifier(n_estimators=9, max_depth=7, max_features=None, min_samples_leaf=4, min_samples_split=2, bootstrap=True, random_state=0))]\n",
    "pipeline = Pipeline(steps=steps)\n",
    "\n",
    "score_list = ['roc_auc', 'accuracy', 'average_precision', 'recall', 'neg_log_loss']\n",
    "\n",
    "for i in score_list:\n",
    "    print('{} for SMOTE Model is {}'.format(i, round(np.mean(cross_val_score(pipeline, X, y, scoring=i, cv=cv, n_jobs=-1)), 3)))"
   ]
  },
  {
   "cell_type": "markdown",
   "metadata": {},
   "source": [
    "## Redshifted Parameters"
   ]
  },
  {
   "cell_type": "code",
   "execution_count": 9,
   "metadata": {},
   "outputs": [
    {
     "name": "stdout",
     "output_type": "stream",
     "text": [
      "roc_auc is 0.844\n",
      "accuracy is 0.839\n",
      "average_precision is 0.719\n",
      "recall is 0.863\n",
      "neg_log_loss is -0.522\n"
     ]
    }
   ],
   "source": [
    "# input\n",
    "X = tot_fit.iloc[:, [7, 9, 11, 13, 15, 17, 19, 21, 23, 25, 27, 29, 31]].values\n",
    "# output\n",
    "y = tot_fit.iloc[:, 33].values.astype('int')\n",
    "\n",
    "cv = RepeatedStratifiedKFold(n_splits=10, n_repeats=100, random_state=0)\n",
    "\n",
    "steps = [('over', SMOTE(sampling_strategy=1, random_state=0)), ('model', RandomForestClassifier(n_estimators=1, max_depth=1, max_features='sqrt', min_samples_leaf=1, min_samples_split=2, bootstrap=True, random_state=0))]\n",
    "pipeline = Pipeline(steps=steps)\n",
    "\n",
    "score_list = ['roc_auc', 'accuracy', 'average_precision', 'recall', 'neg_log_loss']\n",
    "\n",
    "for i in score_list:\n",
    "    print('{} is {}'.format(i, round(np.mean(cross_val_score(pipeline, X, y, scoring=i, cv=cv, n_jobs=-1)), 3)))"
   ]
  },
  {
   "cell_type": "code",
   "execution_count": 10,
   "metadata": {},
   "outputs": [
    {
     "name": "stdout",
     "output_type": "stream",
     "text": [
      "roc_auc is 0.953\n",
      "accuracy is 0.905\n",
      "average_precision is 0.935\n",
      "recall is 0.873\n",
      "neg_log_loss is -0.384\n"
     ]
    }
   ],
   "source": [
    "## Previous best fit\n",
    "# input\n",
    "X = tot_fit.iloc[:, [7, 9, 11, 13, 15, 17, 19, 21, 23, 25, 27, 29, 31]].values\n",
    "# output\n",
    "y = tot_fit.iloc[:, 33].values.astype('int')\n",
    "\n",
    "cv = RepeatedStratifiedKFold(n_splits=10, n_repeats=100, random_state=0)\n",
    "\n",
    "steps = [('over', SMOTE(sampling_strategy=1, random_state=0)), ('model', RandomForestClassifier(n_estimators=13, max_depth=6, max_features='sqrt', min_samples_leaf=1, min_samples_split=7, bootstrap=False, random_state=0))]\n",
    "pipeline = Pipeline(steps=steps)\n",
    "\n",
    "score_list = ['roc_auc', 'accuracy', 'average_precision', 'recall', 'neg_log_loss']\n",
    "\n",
    "for i in score_list:\n",
    "    print('{} is {}'.format(i, round(np.mean(cross_val_score(pipeline, X, y, scoring=i, cv=cv, n_jobs=-1)), 3)))"
   ]
  },
  {
   "cell_type": "markdown",
   "metadata": {},
   "source": [
    "# Logistic Regression"
   ]
  },
  {
   "cell_type": "markdown",
   "metadata": {},
   "source": [
    "## Non Redshifted Parameters"
   ]
  },
  {
   "cell_type": "code",
   "execution_count": 11,
   "metadata": {},
   "outputs": [
    {
     "name": "stdout",
     "output_type": "stream",
     "text": [
      "roc_auc is 0.5\n",
      "accuracy is 0.63\n",
      "average_precision is 0.37\n",
      "recall is 0.0\n",
      "neg_log_loss is -0.693\n"
     ]
    }
   ],
   "source": [
    "# input\n",
    "X = tot_fit.iloc[:, [7, 9, 11, 13, 15, 17, 21, 29, 31]].values #excluding 19, 23, 25, 27 columns\n",
    "# output\n",
    "y = tot_fit.iloc[:, 33].values.astype('int')\n",
    "\n",
    "cv = RepeatedStratifiedKFold(n_splits=10, n_repeats=100, random_state=0)\n",
    "\n",
    "steps = [('scaler', StandardScaler()), ('over', SMOTE(sampling_strategy=1, random_state=0)), ('model', LogisticRegressionCV(max_iter=100, Cs= 1, penalty='l1', random_state=0, solver='liblinear', class_weight=None, fit_intercept=True, n_jobs=-1))]\n",
    "pipeline = Pipeline(steps=steps)\n",
    "\n",
    "score_list = ['roc_auc', 'accuracy', 'average_precision', 'recall', 'neg_log_loss']\n",
    "\n",
    "for i in score_list:\n",
    "    print('{} is {}'.format(i, round(np.mean(cross_val_score(pipeline, X, y, scoring=i, cv=cv, n_jobs=-1)), 3)))"
   ]
  },
  {
   "cell_type": "code",
   "execution_count": null,
   "metadata": {},
   "outputs": [],
   "source": [
    "## Previous best fit\n",
    "# input\n",
    "X = tot_fit.iloc[:, [7, 9, 11, 13, 15, 17, 21, 29, 31]].values #excluding 19, 23, 25, 27 columns\n",
    "# output\n",
    "y = tot_fit.iloc[:, 33].values.astype('int')\n",
    "\n",
    "cv = RepeatedStratifiedKFold(n_splits=10, n_repeats=100, random_state=0)\n",
    "\n",
    "steps = [('over', SMOTE(sampling_strategy=1, random_state=0)), ('model', LogisticRegressionCV(max_iter=100, Cs= 100, fit_intercept=True, penalty='l1', random_state=0, solver='saga', n_jobs=4, class_weight= None))]\n",
    "pipeline = Pipeline(steps=steps)\n",
    "\n",
    "score_list = ['roc_auc', 'accuracy', 'average_precision', 'recall', 'neg_log_loss']\n",
    "\n",
    "append_list = []\n",
    "for i in score_list:\n",
    "    append_list.append(round(np.mean(cross_val_score(pipeline, X, y, scoring=i, cv=cv, n_jobs=4)),3))\n",
    "    print('{} is {}'.format(i, round(np.mean(cross_val_score(pipeline, X, y, scoring=i, cv=cv, n_jobs=4)),3)))"
   ]
  },
  {
   "cell_type": "code",
   "execution_count": 14,
   "metadata": {},
   "outputs": [
    {
     "name": "stdout",
     "output_type": "stream",
     "text": [
      "roc_auc for SVM SMOTE Model is 0.453\n",
      "accuracy for SVM SMOTE Model is 0.507\n",
      "average_precision for SVM SMOTE Model is 0.469\n",
      "recall for SVM SMOTE Model is 0.438\n",
      "neg_log_loss for SVM SMOTE Model is -0.717\n"
     ]
    }
   ],
   "source": [
    "j = 0\n",
    "for i in append_list:\n",
    "    print('{} for is {}'.format(score_list[j], i))\n",
    "    j+=1"
   ]
  },
  {
   "cell_type": "markdown",
   "metadata": {},
   "source": [
    "# Redshifted Parameters"
   ]
  },
  {
   "cell_type": "code",
   "execution_count": 15,
   "metadata": {},
   "outputs": [
    {
     "name": "stdout",
     "output_type": "stream",
     "text": [
      "roc_auc is 0.505\n",
      "accuracy is 0.582\n",
      "average_precision is 0.488\n",
      "recall is 0.302\n",
      "neg_log_loss is -0.717\n"
     ]
    }
   ],
   "source": [
    "# input\n",
    "X = tot_fit.iloc[:, [7, 9, 11, 13, 15, 17, 19, 21, 23, 25, 27, 29, 31]].values\n",
    "# output\n",
    "y = tot_fit.iloc[:, 33].values.astype('int')\n",
    "\n",
    "cv = RepeatedStratifiedKFold(n_splits=10, n_repeats=100, random_state=0)\n",
    "\n",
    "steps = [('over', SMOTE(sampling_strategy=1, random_state=0)), ('model', LogisticRegressionCV(max_iter=100, Cs= 1, penalty='l1', random_state=0, solver='liblinear', class_weight=None, fit_intercept=True, n_jobs=-1))]\n",
    "pipeline = Pipeline(steps=steps)\n",
    "\n",
    "score_list = ['roc_auc', 'accuracy', 'average_precision', 'recall', 'neg_log_loss']\n",
    "\n",
    "for i in score_list:\n",
    "    print('{} is {}'.format(i, round(np.mean(cross_val_score(pipeline, X, y, scoring=i, cv=cv, n_jobs=-1)), 3)))"
   ]
  },
  {
   "cell_type": "code",
   "execution_count": null,
   "metadata": {},
   "outputs": [],
   "source": [
    "## Previous best fit\n",
    "# input\n",
    "X = tot_fit.iloc[:, [7, 9, 11, 13, 15, 17, 19, 21, 23, 25, 27, 29, 31]].values\n",
    "# output\n",
    "y = tot_fit.iloc[:, 33].values.astype('int')\n",
    "\n",
    "cv = RepeatedStratifiedKFold(n_splits=10, n_repeats=100, random_state=0)\n",
    "\n",
    "steps = [('over', SMOTE(sampling_strategy=1, random_state=0)), ('model', LogisticRegressionCV(max_iter=100, Cs= 100, fit_intercept=True, penalty='l1', random_state=0, solver='saga', n_jobs=4, class_weight= None))]\n",
    "pipeline = Pipeline(steps=steps)\n",
    "\n",
    "score_list = ['roc_auc', 'accuracy', 'average_precision', 'recall', 'neg_log_loss']\n",
    "\n",
    "append_list = []\n",
    "for i in score_list:\n",
    "    append_list.append(round(np.mean(cross_val_score(pipeline, X, y, scoring=i, cv=cv, n_jobs=4)),3))\n",
    "    print('{} is {}'.format(i, round(np.mean(cross_val_score(pipeline, X, y, scoring=i, cv=cv, n_jobs=4)),3)))"
   ]
  },
  {
   "cell_type": "code",
   "execution_count": 17,
   "metadata": {},
   "outputs": [
    {
     "name": "stdout",
     "output_type": "stream",
     "text": [
      "roc_auc is 0.634\n",
      "accuracy is 0.671\n",
      "average_precision is 0.616\n",
      "recall is 0.342\n",
      "neg_log_loss is -0.717\n"
     ]
    }
   ],
   "source": [
    "j = 0\n",
    "for i in append_list:\n",
    "    print('{} is {}'.format(score_list[j], i))\n",
    "    j+=1"
   ]
  },
  {
   "cell_type": "markdown",
   "metadata": {},
   "source": [
    "# Support Vector Machine"
   ]
  },
  {
   "cell_type": "markdown",
   "metadata": {},
   "source": [
    "## Non Redshifted Parameters"
   ]
  },
  {
   "cell_type": "code",
   "execution_count": null,
   "metadata": {},
   "outputs": [],
   "source": [
    "# input\n",
    "X = tot_fit.iloc[:, [7, 9, 11, 13, 15, 17, 21, 29, 31]].values #excluding 19, 23, 25, 27 columns\n",
    "# output\n",
    "y = tot_fit.iloc[:, 33].values.astype('int')\n",
    "\n",
    "cv = RepeatedStratifiedKFold(n_splits=10, n_repeats=100, random_state=0)\n",
    "\n",
    "steps = [('scaler', StandardScaler()), ('over', SMOTE(sampling_strategy=1, random_state=0)), ('model', SVC(C = 0.1, kernel='linear', coef0=0, degree=2, gamma='scale', max_iter=100, shrinking=True, tol=0.001, random_state=0, probability=True))]\n",
    "pipeline = Pipeline(steps=steps)\n",
    "\n",
    "score_list = ['roc_auc', 'accuracy', 'average_precision', 'recall', 'neg_log_loss']\n",
    "\n",
    "append_list = []\n",
    "for i in score_list:\n",
    "    append_list.append(round(np.mean(cross_val_score(pipeline, X, y, scoring=i, cv=cv, n_jobs=4)),3))\n",
    "    print('{} is {}'.format(i, round(np.mean(cross_val_score(pipeline, X, y, scoring=i, cv=cv, n_jobs=4)),3)))"
   ]
  },
  {
   "cell_type": "code",
   "execution_count": 19,
   "metadata": {},
   "outputs": [
    {
     "name": "stdout",
     "output_type": "stream",
     "text": [
      "roc_auc is 0.833\n",
      "accuracy is 0.682\n",
      "average_precision is 0.772\n",
      "recall is 0.911\n",
      "neg_log_loss is -0.755\n"
     ]
    }
   ],
   "source": [
    "j = 0\n",
    "for i in append_list:\n",
    "    print('{} is {}'.format(score_list[j], i))\n",
    "    j+=1"
   ]
  },
  {
   "cell_type": "markdown",
   "metadata": {},
   "source": [
    "## Redshifted Parameters"
   ]
  },
  {
   "cell_type": "code",
   "execution_count": null,
   "metadata": {},
   "outputs": [],
   "source": [
    "# input\n",
    "X = tot_fit.iloc[:, [7, 9, 11, 13, 15, 17, 19, 21, 23, 25, 27, 29, 31]].values\n",
    "# output\n",
    "y = tot_fit.iloc[:, 33].values.astype('int')\n",
    "\n",
    "cv = RepeatedStratifiedKFold(n_splits=10, n_repeats=100, random_state=0)\n",
    "\n",
    "steps = [('over', SMOTE(sampling_strategy=1, random_state=0)), ('model', SVC(C = 0.1, kernel='linear', coef0=0, degree=2, gamma='scale', max_iter=100, shrinking=True, tol=0.001, random_state=0, probability=True))]\n",
    "pipeline = Pipeline(steps=steps)\n",
    "\n",
    "score_list = ['roc_auc', 'accuracy', 'average_precision', 'recall', 'neg_log_loss']\n",
    "\n",
    "append_list = []\n",
    "for i in score_list:\n",
    "    append_list.append(round(np.mean(cross_val_score(pipeline, X, y, scoring=i, cv=cv, n_jobs=4)),3))\n",
    "    print('{} is {}'.format(i, round(np.mean(cross_val_score(pipeline, X, y, scoring=i, cv=cv, n_jobs=4)),3)))"
   ]
  },
  {
   "cell_type": "code",
   "execution_count": 34,
   "metadata": {},
   "outputs": [
    {
     "name": "stdout",
     "output_type": "stream",
     "text": [
      "roc_auc is 0.567\n",
      "accuracy is 0.427\n",
      "average_precision is 0.558\n",
      "recall is 0.793\n",
      "neg_log_loss is -0.746\n"
     ]
    }
   ],
   "source": [
    "j = 0\n",
    "for i in append_list:\n",
    "    print('{} is {}'.format(score_list[j], i))\n",
    "    j+=1"
   ]
  }
 ],
 "metadata": {
  "kernelspec": {
   "display_name": "ml",
   "language": "python",
   "name": "python3"
  },
  "language_info": {
   "codemirror_mode": {
    "name": "ipython",
    "version": 3
   },
   "file_extension": ".py",
   "mimetype": "text/x-python",
   "name": "python",
   "nbconvert_exporter": "python",
   "pygments_lexer": "ipython3",
   "version": "3.12.1"
  }
 },
 "nbformat": 4,
 "nbformat_minor": 2
}
